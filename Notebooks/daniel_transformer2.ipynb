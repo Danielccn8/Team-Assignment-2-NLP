{
 "cells": [
  {
   "cell_type": "markdown",
   "id": "2966fb6e",
   "metadata": {},
   "source": [
    "# Transformer code with components split for better understanding and easier manipulation\n"
   ]
  },
  {
   "cell_type": "code",
   "execution_count": 1,
   "id": "d2e22dc2",
   "metadata": {},
   "outputs": [
    {
     "name": "stderr",
     "output_type": "stream",
     "text": [
      "[nltk_data] Downloading package punkt_tab to\n",
      "[nltk_data]     C:\\Users\\DCCN9\\AppData\\Roaming\\nltk_data...\n",
      "[nltk_data]   Package punkt_tab is already up-to-date!\n"
     ]
    }
   ],
   "source": [
    "import pandas as pd\n",
    "import numpy as np\n",
    "import sys\n",
    "import os \n",
    "import nltk\n",
    "import matplotlib.pyplot as plt\n",
    "import seaborn as sns\n",
    "import torch \n",
    "\n",
    "nltk.download('punkt_tab')\n",
    "\n",
    "sys.path.append(os.path.abspath('..')) \n",
    "\n"
   ]
  },
  {
   "cell_type": "code",
   "execution_count": 2,
   "id": "30a3809d",
   "metadata": {},
   "outputs": [],
   "source": [
    "from src.embedding_models import choose_embedding_model"
   ]
  },
  {
   "cell_type": "code",
   "execution_count": 3,
   "id": "3fd394ae",
   "metadata": {},
   "outputs": [],
   "source": [
    "import random\n",
    "\n",
    "def set_seed(seed_value=42):\n",
    "    \"\"\"Sets the seed for reproducibility.\"\"\"\n",
    "    random.seed(seed_value)\n",
    "    np.random.seed(seed_value)\n",
    "    torch.manual_seed(seed_value)\n",
    "    if torch.cuda.is_available():\n",
    "        torch.cuda.manual_seed_all(seed_value)\n",
    "        # The two lines below can sometimes slow down training but ensure full reproducibility\n",
    "        torch.backends.cudnn.deterministic = True\n",
    "        torch.backends.cudnn.benchmark = False\n",
    "\n",
    "# Call the function at the beginning of your script\n",
    "set_seed()"
   ]
  },
  {
   "cell_type": "code",
   "execution_count": 4,
   "id": "2cb2ae53",
   "metadata": {},
   "outputs": [
    {
     "name": "stderr",
     "output_type": "stream",
     "text": [
      "[nltk_data] Downloading package punkt to\n",
      "[nltk_data]     C:\\Users\\DCCN9\\AppData\\Roaming\\nltk_data...\n",
      "[nltk_data]   Package punkt is already up-to-date!\n",
      "[nltk_data] Downloading package stopwords to\n",
      "[nltk_data]     C:\\Users\\DCCN9\\AppData\\Roaming\\nltk_data...\n",
      "[nltk_data]   Package stopwords is already up-to-date!\n",
      "[nltk_data] Downloading package wordnet to\n",
      "[nltk_data]     C:\\Users\\DCCN9\\AppData\\Roaming\\nltk_data...\n",
      "[nltk_data]   Package wordnet is already up-to-date!\n"
     ]
    }
   ],
   "source": [
    "# Import Pre-Processing\n",
    "from src.pre_processing import clean_dataset\n",
    "from src.config import Config\n",
    "hyperparameters = Config()"
   ]
  },
  {
   "cell_type": "code",
   "execution_count": 5,
   "id": "91042ad3",
   "metadata": {},
   "outputs": [
    {
     "name": "stdout",
     "output_type": "stream",
     "text": [
      "CUDA available: True\n",
      "CUDA version: 12.9\n",
      "Number of GPUs: 1\n",
      "GPU name: NVIDIA GeForce MX450\n"
     ]
    }
   ],
   "source": [
    "import torch\n",
    "print(\"CUDA available:\", torch.cuda.is_available())\n",
    "print(\"CUDA version:\", torch.version.cuda)\n",
    "print(\"Number of GPUs:\", torch.cuda.device_count())\n",
    "if torch.cuda.is_available():\n",
    "    print(\"GPU name:\", torch.cuda.get_device_name(0))"
   ]
  },
  {
   "cell_type": "code",
   "execution_count": 6,
   "id": "54c8bd18",
   "metadata": {},
   "outputs": [],
   "source": [
    "train_df = pd.read_json('../Dataset/train.json')\n",
    "test_df = pd.read_json('../Dataset/test.json')\n",
    "validation_df = pd.read_json('../Dataset/validation.json')"
   ]
  },
  {
   "cell_type": "code",
   "execution_count": 7,
   "id": "fb126a91",
   "metadata": {},
   "outputs": [],
   "source": [
    "# Import DataLoader and TensorDataset\n",
    "from torch.utils.data import TensorDataset, DataLoader\n",
    "\n",
    "from torch.optim.lr_scheduler import ReduceLROnPlateau"
   ]
  },
  {
   "cell_type": "markdown",
   "id": "9bf1c22c",
   "metadata": {},
   "source": [
    "# Pre Processing\n"
   ]
  },
  {
   "cell_type": "markdown",
   "id": "760b2933",
   "metadata": {},
   "source": [
    "Call the pre-processing fucntion inside the src --> pre-processing.clean_dataset()  \n",
    "Structure :\n",
    "`clean_dataset(dataset, MIN_WORD_LENGTH=3, MAX_WORD_LENGTH=64, method=None, pos_filter=False, stop_w=False)`\n",
    "\n",
    "- dataset\n",
    "- min_word_len --> Set to 3\n",
    "- max_word_len --> Set to 60\n",
    "- method (stem,lemmatize) optional\n",
    "- pos_filter (optional)\n",
    "- stop_word (optional)\n"
   ]
  },
  {
   "cell_type": "code",
   "execution_count": 8,
   "id": "06454ff7",
   "metadata": {},
   "outputs": [],
   "source": [
    "clean_train_dataset = clean_dataset(train_df, stop_w=True, method='', pos_filter=False, max_word_len=64)\n",
    "clean_test_dataset = clean_dataset(test_df,stop_w=True, method='', pos_filter= False,max_word_len=64 )\n",
    "clean_validation_dataset = clean_dataset(validation_df,stop_w=True, method=None, pos_filter= False, max_word_len=64 )\n",
    "\n",
    "# Combine between clean premise and hypothesis\n",
    "clean_t_dataset = clean_train_dataset['premise'] + clean_train_dataset['hypothesis']"
   ]
  },
  {
   "cell_type": "code",
   "execution_count": 9,
   "id": "d402eaca",
   "metadata": {},
   "outputs": [
    {
     "data": {
      "text/plain": [
       "0    [pluto, rotates, axis, every, 6.39, earth, day...\n",
       "1    [--, -glenn, per, day, earth, rotates, axis, ....\n",
       "2    [geysers, -, periodic, gush, hot, water, surfa...\n",
       "3    [facts, liquid, water, droplets, changed, invi...\n",
       "4    [comparison, earth, rotates, axis, per, day, r...\n",
       "dtype: object"
      ]
     },
     "execution_count": 9,
     "metadata": {},
     "output_type": "execute_result"
    }
   ],
   "source": [
    "clean_t_dataset.head()"
   ]
  },
  {
   "cell_type": "markdown",
   "id": "dd40e91b",
   "metadata": {},
   "source": [
    "## Create a unique list of words from both premise and hypothesis\n"
   ]
  },
  {
   "cell_type": "code",
   "execution_count": 10,
   "id": "04ce4a66",
   "metadata": {},
   "outputs": [
    {
     "name": "stdout",
     "output_type": "stream",
     "text": [
      "Count of unique words: 21940\n"
     ]
    }
   ],
   "source": [
    "# Create a unique word list from the cleaned dataset\n",
    "unique_words = set()\n",
    "for sentence in clean_t_dataset: # Both Premise and Hypothesis \n",
    "    for word in sentence:\n",
    "        unique_words.add(word)\n",
    "\n",
    "print(f\"Count of unique words: {len(unique_words)}\")\n",
    "# No lemma, stem, stop_w, pos_filter = 22134\n",
    "# With stop_w = 21917\n",
    "# With stop_w, lemma (took 25 sec) = 18396\n",
    "# With stop_w, stem (took 10s) = 15403\n",
    "# Just Stem = 15565\n",
    "# Just lemma = 18587\n",
    "# Just Pos Filtering = 21115\n",
    "# What are we removing in the pos filtering???"
   ]
  },
  {
   "cell_type": "markdown",
   "id": "7de69e90",
   "metadata": {},
   "source": [
    "Sort the word to always have tem ordered\n"
   ]
  },
  {
   "cell_type": "code",
   "execution_count": 11,
   "id": "7d6c86d3",
   "metadata": {},
   "outputs": [],
   "source": [
    "unique_words_list = sorted(list(unique_words))"
   ]
  },
  {
   "cell_type": "markdown",
   "id": "9d140757",
   "metadata": {},
   "source": [
    "## Create a dictionary of word-index\n"
   ]
  },
  {
   "cell_type": "markdown",
   "id": "58d5b4fb",
   "metadata": {},
   "source": [
    "Use the enumerate to map a unique index to a unique word\n"
   ]
  },
  {
   "cell_type": "code",
   "execution_count": 12,
   "id": "d3fcf8f0",
   "metadata": {},
   "outputs": [],
   "source": [
    "word2id = {w:i for i,w in enumerate(unique_words_list)}\n",
    "id2word = {i:w for i,w in enumerate(unique_words_list)}"
   ]
  },
  {
   "cell_type": "markdown",
   "id": "cab02d5d",
   "metadata": {},
   "source": [
    "# Build the Embedding Model\n"
   ]
  },
  {
   "cell_type": "markdown",
   "id": "b47a8f88",
   "metadata": {},
   "source": [
    "Build the embeddings using the gensim, calling the `embedding_model.py`\n"
   ]
  },
  {
   "cell_type": "code",
   "execution_count": 13,
   "id": "eda725ca",
   "metadata": {},
   "outputs": [],
   "source": [
    "from gensim.models import FastText"
   ]
  },
  {
   "cell_type": "code",
   "execution_count": 14,
   "id": "0eb593df",
   "metadata": {},
   "outputs": [
    {
     "name": "stdout",
     "output_type": "stream",
     "text": [
      "Loading GloVe Model...\n",
      "Done. 400000 words loaded!\n"
     ]
    }
   ],
   "source": [
    "embedding_model = choose_embedding_model(dataset=clean_t_dataset,\n",
    "                                          vector_size=hyperparameters.emb_size, \n",
    "                                          window=hyperparameters.emb_window_size, \n",
    "                                          sg=1, \n",
    "                                          epochs=hyperparameters.emb_epoch,\n",
    "                                          batch_words=hyperparameters.emb_batch,\n",
    "                                          embed_model=hyperparameters.embedding_method)"
   ]
  },
  {
   "cell_type": "code",
   "execution_count": 15,
   "id": "aa798437",
   "metadata": {},
   "outputs": [],
   "source": [
    "#embedding_model.wv.most_similar('saturn', topn=10)"
   ]
  },
  {
   "cell_type": "markdown",
   "id": "6b9a8a72",
   "metadata": {},
   "source": [
    "# Start of the Transformer Implementation\n"
   ]
  },
  {
   "cell_type": "markdown",
   "id": "712f54be",
   "metadata": {},
   "source": [
    "## Lets first add the necessary special tokens [SEP] [PAD]\n"
   ]
  },
  {
   "cell_type": "code",
   "execution_count": 16,
   "id": "3106a619",
   "metadata": {},
   "outputs": [],
   "source": [
    "SPECIAL_TOKENS = ['[PAD]','[UNK]','[CLS]','[SEP]']\n",
    "for tok in SPECIAL_TOKENS:\n",
    "    if tok not in word2id:\n",
    "        idx = len(word2id)\n",
    "        word2id[tok] = idx\n",
    "        id2word[idx] = tok\n",
    "\n",
    "PAD_ID = word2id['[PAD]'] # Padding token \n",
    "UNK_ID = word2id['[UNK]'] # Unknown words token \n",
    "CLS_ID = word2id['[CLS]'] # Classification token\n",
    "SEP_ID = word2id['[SEP]'] # Separation token "
   ]
  },
  {
   "cell_type": "code",
   "execution_count": 17,
   "id": "281b5a3e",
   "metadata": {},
   "outputs": [],
   "source": [
    "def prepare_transformer_data(df, word2id, max_len):\n",
    "    input_ids = []\n",
    "    attention_mask = []\n",
    "    labels = []\n",
    "\n",
    "    label_map = {'neutral': 0, 'entails': 1}\n",
    "\n",
    "    for _, row in df.iterrows():\n",
    "        premise_toks = row['premise']\n",
    "        hypothesis_toks = row['hypothesis']\n",
    "        label = row['label']\n",
    "\n",
    "        # Add special tokens \n",
    "        tokens = [CLS_ID] \\\n",
    "                + [word2id.get(w,UNK_ID) for w in premise_toks] \\\n",
    "                + [SEP_ID] \\\n",
    "                + [word2id.get(w,UNK_ID) for w in hypothesis_toks] \n",
    "        # Truncate\n",
    "        tokens = tokens[:(max_len)] # Double for both premise and hypothesis \n",
    "\n",
    "        # Attention mask \n",
    "        attn = [1] * len(tokens)\n",
    "\n",
    "        # Pad\n",
    "        pad_len = max_len- len(tokens) # To fill the [PAD]\n",
    "        if pad_len > 0:\n",
    "            tokens += [PAD_ID] * pad_len\n",
    "            attn += [0] * pad_len # FLag positions as padding \n",
    "\n",
    "        input_ids.append(tokens)\n",
    "        attention_mask.append(attn)\n",
    "        labels.append(label_map[label])\n",
    "\n",
    "    return (torch.LongTensor(input_ids),\n",
    "            torch.LongTensor(attention_mask),\n",
    "            torch.LongTensor(labels))\n",
    "    "
   ]
  },
  {
   "cell_type": "code",
   "execution_count": 18,
   "id": "5068195b",
   "metadata": {},
   "outputs": [
    {
     "name": "stdout",
     "output_type": "stream",
     "text": [
      "Shape of x_train: torch.Size([22935, 130])\n",
      "Shape of train_masks: torch.Size([22935, 130])\n",
      "Shape of y_train: torch.Size([22935])\n",
      "\n",
      "--- Example ---\n",
      "First example real length (mask sum): 16\n",
      "First example PAD count: 114\n"
     ]
    }
   ],
   "source": [
    "# Build train/test\n",
    "x_train, train_masks, y_train = prepare_transformer_data(clean_train_dataset, word2id, hyperparameters.max_trans_len)\n",
    "x_test,  test_masks,  y_test  = prepare_transformer_data(clean_test_dataset,  word2id, hyperparameters.max_trans_len)\n",
    "x_valid,  valid_masks,  y_valid  = prepare_transformer_data(clean_validation_dataset,  word2id, hyperparameters.max_trans_len)\n",
    "\n",
    "print(\"Shape of x_train:\", x_train.shape)\n",
    "print(\"Shape of train_masks:\", train_masks.shape)\n",
    "print(\"Shape of y_train:\", y_train.shape)\n",
    "\n",
    "# Sanity Check \n",
    "i = 0\n",
    "print(\"\\n--- Example ---\")\n",
    "print(\"First example real length (mask sum):\", int(train_masks[i].sum()))\n",
    "print(\"First example PAD count:\", int((train_masks[i]==0).sum()))"
   ]
  },
  {
   "cell_type": "code",
   "execution_count": 19,
   "id": "4a8daab1",
   "metadata": {},
   "outputs": [
    {
     "data": {
      "text/plain": [
       "tensor([1, 1, 1, 1, 1, 1, 1, 1, 1, 1, 1, 1, 1, 1, 1, 1, 0, 0, 0, 0, 0, 0, 0, 0,\n",
       "        0, 0, 0, 0, 0, 0, 0, 0, 0, 0, 0, 0, 0, 0, 0, 0, 0, 0, 0, 0, 0, 0, 0, 0,\n",
       "        0, 0, 0, 0, 0, 0, 0, 0, 0, 0, 0, 0, 0, 0, 0, 0, 0, 0, 0, 0, 0, 0, 0, 0,\n",
       "        0, 0, 0, 0, 0, 0, 0, 0, 0, 0, 0, 0, 0, 0, 0, 0, 0, 0, 0, 0, 0, 0, 0, 0,\n",
       "        0, 0, 0, 0, 0, 0, 0, 0, 0, 0, 0, 0, 0, 0, 0, 0, 0, 0, 0, 0, 0, 0, 0, 0,\n",
       "        0, 0, 0, 0, 0, 0, 0, 0, 0, 0])"
      ]
     },
     "execution_count": 19,
     "metadata": {},
     "output_type": "execute_result"
    }
   ],
   "source": [
    "train_masks[0]"
   ]
  },
  {
   "cell_type": "code",
   "execution_count": 20,
   "id": "34f9726f",
   "metadata": {},
   "outputs": [
    {
     "name": "stdout",
     "output_type": "stream",
     "text": [
      "['[CLS]', 'pluto', 'rotates', 'axis', 'every', '6.39', 'earth', 'days', '[SEP]', 'earth', 'rotates', 'axis', 'times', 'one', 'day', '.', '[PAD]', '[PAD]', '[PAD]', '[PAD]', '[PAD]', '[PAD]', '[PAD]', '[PAD]', '[PAD]', '[PAD]', '[PAD]', '[PAD]', '[PAD]', '[PAD]', '[PAD]', '[PAD]', '[PAD]', '[PAD]', '[PAD]', '[PAD]', '[PAD]', '[PAD]', '[PAD]', '[PAD]', '[PAD]', '[PAD]', '[PAD]', '[PAD]', '[PAD]', '[PAD]', '[PAD]', '[PAD]', '[PAD]', '[PAD]', '[PAD]', '[PAD]', '[PAD]', '[PAD]', '[PAD]', '[PAD]', '[PAD]', '[PAD]', '[PAD]', '[PAD]', '[PAD]', '[PAD]', '[PAD]', '[PAD]', '[PAD]', '[PAD]', '[PAD]', '[PAD]', '[PAD]', '[PAD]', '[PAD]', '[PAD]', '[PAD]', '[PAD]', '[PAD]', '[PAD]', '[PAD]', '[PAD]', '[PAD]', '[PAD]', '[PAD]', '[PAD]', '[PAD]', '[PAD]', '[PAD]', '[PAD]', '[PAD]', '[PAD]', '[PAD]', '[PAD]', '[PAD]', '[PAD]', '[PAD]', '[PAD]', '[PAD]', '[PAD]', '[PAD]', '[PAD]', '[PAD]', '[PAD]', '[PAD]', '[PAD]', '[PAD]', '[PAD]', '[PAD]', '[PAD]', '[PAD]', '[PAD]', '[PAD]', '[PAD]', '[PAD]', '[PAD]', '[PAD]', '[PAD]', '[PAD]', '[PAD]', '[PAD]', '[PAD]', '[PAD]', '[PAD]', '[PAD]', '[PAD]', '[PAD]', '[PAD]', '[PAD]', '[PAD]', '[PAD]', '[PAD]', '[PAD]', '[PAD]']\n"
     ]
    }
   ],
   "source": [
    "sentence = []\n",
    "for x in x_train[0]:\n",
    "    sentence.append(id2word[int(x)])\n",
    "\n",
    "print(sentence)"
   ]
  },
  {
   "cell_type": "markdown",
   "id": "25988d3e",
   "metadata": {},
   "source": [
    "## Positional Encoding\n"
   ]
  },
  {
   "cell_type": "code",
   "execution_count": 21,
   "id": "6c03f098",
   "metadata": {},
   "outputs": [],
   "source": [
    "import math\n",
    "import torch\n",
    "import torch.nn as nn\n",
    "\n",
    "\n",
    "class PositionalEncoding(nn.Module):\n",
    "    \n",
    "    def __init__(self,d_model,max_len = 512, dropout = 0.1):\n",
    "        super().__init__()\n",
    "        pe = torch.zeros(max_len, d_model)\n",
    "        position = torch.arange(0,max_len).unsqueeze(1).float()\n",
    "        div_term = torch.exp(torch.arange(0,d_model,2).float() * (-math.log(10000.0) / d_model))\n",
    "        pe[:,0::2] = torch.sin(position * div_term) # For even dims\n",
    "        pe[:,1::2] = torch.cos(position * div_term)\n",
    "        self.register_buffer('pe', pe.unsqueeze(0))\n",
    "        self.dropout = nn.Dropout(dropout)\n",
    "\n",
    "    def forward(self, x: torch.Tensor):\n",
    "        x = x + self.pe[:, :x.size(1), :] \n",
    "        return self.dropout(x)\n",
    "        "
   ]
  },
  {
   "cell_type": "code",
   "execution_count": 22,
   "id": "40c54391",
   "metadata": {},
   "outputs": [],
   "source": [
    "\n",
    "def build_embedding_matrix(word2id, pretrained_vectors, embedding_size):\n",
    "    vocab_size = len(word2id)\n",
    "    embedding_matrix = np.zeros((vocab_size, embedding_size), dtype=np.float32)\n",
    "\n",
    "    # Fill the matrix with pre-trained vectors\n",
    "    for word, idx in word2id.items():\n",
    "        if word == '[PAD]':\n",
    "            continue\n",
    "        try:\n",
    "            vec = pretrained_vectors[word]\n",
    "            if vec.shape[0] == embedding_size:\n",
    "                embedding_matrix[idx] = vec.astype(np.float32)\n",
    "            else:\n",
    "                # fallback if dims don’t match\n",
    "                embedding_matrix[idx] = np.random.normal(0.0, 0.02, size=(embedding_size,)).astype(np.float32)\n",
    "        except KeyError:\n",
    "            # special tokens or OOV start them with random values \n",
    "            embedding_matrix[idx] = np.random.normal(0.0, 0.02, size=(embedding_size,)).astype(np.float32)\n",
    "\n",
    "    print(\"Embedding matrix created with shape:\", embedding_matrix.shape)\n",
    "\n",
    "    return embedding_matrix"
   ]
  },
  {
   "cell_type": "code",
   "execution_count": 23,
   "id": "35ec7f1f",
   "metadata": {},
   "outputs": [],
   "source": [
    "class TransformerClassifier(nn.Module):\n",
    "    def __init__(self, embedding_matrix, num_classes, n_heads, n_layers, dropout):\n",
    "        super().__init__()\n",
    "        vocab_size, embed_dim = embedding_matrix.shape\n",
    "        self.d_model = embed_dim\n",
    "\n",
    "        # Embedding Layer\n",
    "        self.embedding = nn.Embedding.from_pretrained(torch.FloatTensor(embedding_matrix), freeze=False, padding_idx=PAD_ID)\n",
    "        # TO (learning from scratch):\n",
    "        #self.embedding = nn.Embedding(vocab_size, self.d_model, padding_idx=PAD_ID)\n",
    "\n",
    "\n",
    "        self.seg_embed = nn.Embedding(2, embed_dim)\n",
    "        # Positional Encoding\n",
    "        self.pos_encoder = PositionalEncoding(embed_dim, max_len=hyperparameters.max_trans_len, dropout=dropout)\n",
    "\n",
    "        # Transformer Encoder Layers\n",
    "        encoder_layer = nn.TransformerEncoderLayer(\n",
    "            d_model=embed_dim,\n",
    "            nhead=n_heads,\n",
    "            dropout=dropout,\n",
    "            dim_feedforward=(embed_dim*4), # Use 4 time the size of embedding \n",
    "            batch_first=True # Makes working with batch dimension easier\n",
    "        )\n",
    "        self.transformer_encoder = nn.TransformerEncoder(encoder_layer,num_layers=n_layers)\n",
    "\n",
    "        # classifier head\n",
    "        self.pool_norm = nn.LayerNorm(embed_dim)\n",
    "        #self.classifier = nn.Linear(embed_dim, num_classes)\n",
    "        self.classifier = nn.Sequential(\n",
    "            nn.Dropout(dropout),\n",
    "            nn.Linear(embed_dim,embed_dim),\n",
    "            nn.ReLU(),\n",
    "            nn.Dropout(dropout),\n",
    "            nn.Linear(embed_dim,num_classes)\n",
    "        )\n",
    "\n",
    "        ## Final Classification Head\n",
    "        #self.classifier = nn.Linear(embed_dim,num_classes)\n",
    "\n",
    "    def forward(self, src, src_mask):\n",
    "        padding_mask = (src_mask == 0)\n",
    "\n",
    "        # Apply embedding and positional encoding\n",
    "        embedded = self.embedding(src) * math.sqrt(self.d_model)\n",
    "        pos_encoded = self.pos_encoder(embedded)\n",
    "\n",
    "        # Pass trough the transformer encoder\n",
    "        encoded = self.transformer_encoder(pos_encoded,src_key_padding_mask = padding_mask)\n",
    "\n",
    "        # Use the output of the [CLS] token (first token) for classification\n",
    "        cls_output = encoded[:,0,:]\n",
    "\n",
    "\n",
    "        # Get final logits from the classifier\n",
    "        logits = self.classifier(cls_output)\n",
    "        return logits\n",
    "    \n",
    "\n",
    "    # Add this method INSIDE your TransformerClassifier class in daniel_transformer2.ipynb\n",
    "\n",
    "    def get_attention_weights(self, src, src_mask):\n",
    "        \"\"\"\n",
    "        Gets the attention weights from the first encoder layer.\n",
    "        \"\"\"\n",
    "        # 1. Get embeddings and positional encoding\n",
    "        padding_mask = (src_mask == 0)\n",
    "        embedded = self.embedding(src) * math.sqrt(self.d_model)\n",
    "        pos_encoded = self.pos_encoder(embedded)\n",
    "\n",
    "        # 2. Access the FIRST encoder layer directly from the nn.ModuleList\n",
    "        first_encoder_layer = self.transformer_encoder.layers[0]\n",
    "\n",
    "        # 3. Call its self-attention module with need_weights=True\n",
    "        # This is the key step that returns the weights.\n",
    "        # We set average_attn_weights=False to see what each head is doing individually.\n",
    "        _, attn_weights = first_encoder_layer.self_attn(\n",
    "            pos_encoded, pos_encoded, pos_encoded,\n",
    "            key_padding_mask=padding_mask,\n",
    "            need_weights=True,\n",
    "            average_attn_weights=False\n",
    "        )\n",
    "\n",
    "        return attn_weights.cpu().detach()"
   ]
  },
  {
   "cell_type": "code",
   "execution_count": 24,
   "id": "c3bea712",
   "metadata": {},
   "outputs": [],
   "source": [
    "def plot_attention_head(attention_weights, tokens, head_index):\n",
    "    \"\"\"Plots a readable heatmap for a single attention head, ignoring padding.\"\"\"\n",
    "    \n",
    "    # 1. Find the actual length of the sentence by finding the first [PAD] token\n",
    "    try:\n",
    "        real_len = tokens.index('[PAD]')\n",
    "    except ValueError:\n",
    "        real_len = len(tokens)\n",
    "\n",
    "    # 2. Slice the tokens and weights to remove padding\n",
    "    tokens_no_padding = tokens[:real_len]\n",
    "    head_weights = attention_weights[0, head_index][:real_len, :real_len]\n",
    "    \n",
    "    # 3. Create the plot\n",
    "    fig, ax = plt.subplots(figsize=(10, 8))\n",
    "    sns.heatmap(\n",
    "        head_weights, \n",
    "        xticklabels=tokens_no_padding, \n",
    "        yticklabels=tokens_no_padding, \n",
    "        cmap='viridis', \n",
    "        ax=ax\n",
    "    )\n",
    "    \n",
    "    ax.set_title(f'Attention Head #{head_index} (Padding Removed)')\n",
    "    plt.show()\n"
   ]
  },
  {
   "cell_type": "code",
   "execution_count": 25,
   "id": "5767602c",
   "metadata": {},
   "outputs": [],
   "source": [
    "# Modify Hyperparameters\n",
    "import importlib\n",
    "import src.config\n",
    "from src.config import Config\n",
    "importlib.reload(src.config)\n",
    "from src.config import Config\n",
    "hyperparameters = Config()"
   ]
  },
  {
   "cell_type": "code",
   "execution_count": 26,
   "id": "d96e0a89",
   "metadata": {},
   "outputs": [
    {
     "name": "stdout",
     "output_type": "stream",
     "text": [
      "64\n"
     ]
    }
   ],
   "source": [
    "print(hyperparameters.batch_size)"
   ]
  },
  {
   "cell_type": "code",
   "execution_count": 27,
   "id": "2ce7de69",
   "metadata": {},
   "outputs": [
    {
     "name": "stdout",
     "output_type": "stream",
     "text": [
      "Embedding matrix created with shape: (21944, 200)\n"
     ]
    }
   ],
   "source": [
    "# Prepare the transformer data \n",
    "\n",
    "# First, build the embedding matrix using the function you wrote\n",
    "if hyperparameters.embedding_method == \"FastText\":\n",
    "    pretrained_vectors = embedding_model.wv\n",
    "elif hyperparameters.embedding_method == \"GloVe\":\n",
    "    pretrained_vectors = embedding_model\n",
    "\n",
    "embedding_matrix = build_embedding_matrix(word2id, pretrained_vectors, hyperparameters.emb_size)\n",
    "# Ex. word_id = 0, Word = \"Saturn\" vector [-0.26502675 -0.00755045  0.09107253 -0.13402076  0.22515745, ...]\n",
    "\n",
    "# Now, instantiate the model\n",
    "transformer_model = TransformerClassifier(\n",
    "    embedding_matrix=embedding_matrix,\n",
    "    num_classes=hyperparameters.num_classes,\n",
    "    n_heads=hyperparameters.n_heads,\n",
    "    n_layers=hyperparameters.n_layers,\n",
    "    dropout=hyperparameters.dropout\n",
    ")\n",
    "\n",
    "# Datasets\n",
    "train_ds = TensorDataset(x_train, train_masks,y_train)\n",
    "test_ds = TensorDataset(x_test, test_masks,y_test)\n",
    "valid_ds = TensorDataset(x_valid, valid_masks,y_valid)\n",
    "\n",
    "# Dataloaders (shuffle for train)\n",
    "train_loader = DataLoader(train_ds, batch_size=hyperparameters.batch_size, shuffle=True, num_workers=2)\n",
    "test_loader = DataLoader(test_ds, batch_size=hyperparameters.batch_size, shuffle=False, num_workers=2)\n",
    "valid_loader = DataLoader(valid_ds, batch_size=hyperparameters.batch_size, shuffle=False, num_workers=2)\n",
    "\n",
    "#\n",
    "\n",
    "device = torch.device('cuda' if torch.cuda.is_available() else 'cpu')\n",
    "transformer_model.to(device)\n",
    "\n",
    "counts = torch.bincount(y_train)\n",
    "freq   = counts.float() / counts.sum()\n",
    "weights = (1.0 / (freq + 1e-8))\n",
    "weights = (weights / weights.mean()).to(device)\n",
    "\n",
    "criterion = nn.CrossEntropyLoss(weight=weights, label_smoothing=hyperparameters.label_smoothing)\n",
    "optimizer = torch.optim.AdamW(transformer_model.parameters(), lr = hyperparameters.lr, weight_decay=hyperparameters.wd)\n",
    "\n",
    "# Initialize the scheduler to reduce the lr on the process\n",
    "scheduler = ReduceLROnPlateau(\n",
    "    optimizer,\n",
    "    mode='min',\n",
    "    factor=0.2,\n",
    "    patience=1,\n",
    ")\n"
   ]
  },
  {
   "cell_type": "code",
   "execution_count": 28,
   "id": "3390126d",
   "metadata": {},
   "outputs": [
    {
     "data": {
      "text/plain": [
       "tensor([0.7383, 1.2617], device='cuda:0')"
      ]
     },
     "execution_count": 28,
     "metadata": {},
     "output_type": "execute_result"
    }
   ],
   "source": [
    "weights"
   ]
  },
  {
   "cell_type": "code",
   "execution_count": 29,
   "id": "989a6600",
   "metadata": {},
   "outputs": [],
   "source": [
    "def train_epoch(model, loader, optimizer, criterion, device):\n",
    "    model.train()\n",
    "    total_loss = 0\n",
    "    total_correct = 0\n",
    "    total = 0\n",
    "\n",
    "    for xb, mb, yb in loader: # x_train, train_mask, y_train\n",
    "        xb,mb,yb = xb.to(device), mb.to(device), yb.to(device)\n",
    "        optimizer.zero_grad()\n",
    "        logits = model(xb, mb)\n",
    "        loss = criterion(logits, yb)\n",
    "        loss.backward()\n",
    "        nn.utils.clip_grad_norm_(model.parameters(), 1.0)# Gradient clipping, prevents gradients to become to large \n",
    "        optimizer.step()\n",
    "\n",
    "        total_loss += loss.item() * yb.size(0)\n",
    "        preds = logits.argmax(1)\n",
    "        total_correct += (preds == yb).sum().item()\n",
    "        total += yb.size(0)\n",
    "    return total_loss/total, total_correct/total\n",
    "\n",
    "@torch.no_grad() #For everything inside this function, don’t track gradients.\n",
    "def evaluate(model, loader, criterion, device):\n",
    "    model.eval()\n",
    "    total_loss = 0\n",
    "    total_correct = 0\n",
    "    total = 0\n",
    "    for input_ids, attention_mask, labels in loader:\n",
    "        input_ids      = input_ids.to(device)\n",
    "        attention_mask = attention_mask.to(device)\n",
    "        labels         = labels.to(device)\n",
    "\n",
    "        logits = model(input_ids, attention_mask)\n",
    "        loss   = criterion(logits, labels)\n",
    "\n",
    "        total_loss   += loss.item() * labels.size(0)\n",
    "        preds         = logits.argmax(1)\n",
    "        total_correct+= (preds == labels).sum().item()\n",
    "        total        += labels.size(0)\n",
    "    return total_loss/total, total_correct/total\n"
   ]
  },
  {
   "cell_type": "code",
   "execution_count": 30,
   "id": "89462eac",
   "metadata": {},
   "outputs": [],
   "source": [
    "def train_model(transformer_model):\n",
    "    device = torch.device('cuda' if torch.cuda.is_available() else 'cpu')\n",
    "    transformer_model.to(device)\n",
    "    print(device)\n",
    "    # Early Stopping params\n",
    "    patience = 5\n",
    "    patience_counter = 0\n",
    "    best_val_loss = float('inf') #Starts with a high number\n",
    "    best_model_path = \"best_transformer_model.pth\"\n",
    "\n",
    "\n",
    "    # Main training loop\n",
    "    for epoch in range(hyperparameters.train_num_epoch):\n",
    "        train_loss, train_acc = train_epoch(transformer_model, train_loader, optimizer, criterion, device)\n",
    "        val_loss, val_acc = evaluate(transformer_model, valid_loader, criterion, device)\n",
    "        print(f\"Epoch {epoch+1}/{hyperparameters.train_num_epoch} - Train Loss: {train_loss:.4f}, Train Acc: {train_acc:.4f} - Val Loss: {val_loss:.4f}, Val Acc: {val_acc:.4f}\")\n",
    "\n",
    "        #Update the scheduler\n",
    "        scheduler.step(val_loss)\n",
    "\n",
    "        if val_loss < best_val_loss:\n",
    "            best_val_loss = val_loss\n",
    "            patience_counter = 0\n",
    "            # Save the best model weights\n",
    "            torch.save(transformer_model.state_dict(), best_model_path)\n",
    "            print(f\"  -> Validation loss improved to {best_val_loss:.4f}. Saving model.\")\n",
    "        else:\n",
    "            patience_counter += 1\n",
    "            print(f\"  -> Validation loss did not improve. Patience {patience_counter}/{patience}.\")\n",
    "\n",
    "        if patience_counter >= patience:\n",
    "            print(\"Early stopping\")\n",
    "            break\n",
    "\n",
    "    print(\"Training complete.\")\n",
    "\n",
    "    # Use the best model considering the validation loss\n",
    "    print(f\"Loading best model from {best_model_path} with val_loss: {best_val_loss:.4f}\")\n",
    "    transformer_model.load_state_dict(torch.load(best_model_path))\n",
    "\n",
    "    test_loss, test_acc = evaluate(transformer_model, test_loader, criterion, device)\n",
    "    print(f\"FINAL TEST - Loss: {test_loss:.4f}, Acc: {test_acc:.4f}\")\n"
   ]
  },
  {
   "cell_type": "code",
   "execution_count": 31,
   "id": "45b8f6d8",
   "metadata": {},
   "outputs": [
    {
     "name": "stdout",
     "output_type": "stream",
     "text": [
      "cuda\n"
     ]
    },
    {
     "name": "stderr",
     "output_type": "stream",
     "text": [
      "c:\\Users\\DCCN9\\OneDrive - UWA\\Data Science\\Semester July-November 2025\\CITS4012 - Natural Language Processing\\Team Assignment 2 NLP\\.venv\\Lib\\site-packages\\torch\\nn\\modules\\transformer.py:515: UserWarning: The PyTorch API of nested tensors is in prototype stage and will change in the near future. We recommend specifying layout=torch.jagged when constructing a nested tensor, as this layout receives active development, has better operator coverage, and works with torch.compile. (Triggered internally at C:\\actions-runner\\_work\\pytorch\\pytorch\\pytorch\\aten\\src\\ATen\\NestedTensorImpl.cpp:182.)\n",
      "  output = torch._nested_tensor_from_mask(\n"
     ]
    },
    {
     "name": "stdout",
     "output_type": "stream",
     "text": [
      "Epoch 1/7 - Train Loss: 0.6801, Train Acc: 0.5582 - Val Loss: 0.6266, Val Acc: 0.6559\n",
      "  -> Validation loss improved to 0.6266. Saving model.\n",
      "Epoch 2/7 - Train Loss: 0.6522, Train Acc: 0.6142 - Val Loss: 0.5978, Val Acc: 0.6482\n",
      "  -> Validation loss improved to 0.5978. Saving model.\n",
      "Epoch 3/7 - Train Loss: 0.6228, Train Acc: 0.6555 - Val Loss: 0.5921, Val Acc: 0.6490\n",
      "  -> Validation loss improved to 0.5921. Saving model.\n",
      "Epoch 4/7 - Train Loss: 0.6029, Train Acc: 0.6764 - Val Loss: 0.5809, Val Acc: 0.6751\n",
      "  -> Validation loss improved to 0.5809. Saving model.\n",
      "Epoch 5/7 - Train Loss: 0.5756, Train Acc: 0.7037 - Val Loss: 0.5792, Val Acc: 0.6690\n",
      "  -> Validation loss improved to 0.5792. Saving model.\n",
      "Epoch 6/7 - Train Loss: 0.5613, Train Acc: 0.7168 - Val Loss: 0.5837, Val Acc: 0.6866\n",
      "  -> Validation loss did not improve. Patience 1/5.\n",
      "Epoch 7/7 - Train Loss: 0.5439, Train Acc: 0.7314 - Val Loss: 0.5811, Val Acc: 0.6874\n",
      "  -> Validation loss did not improve. Patience 2/5.\n",
      "Training complete.\n",
      "Loading best model from best_transformer_model.pth with val_loss: 0.5792\n",
      "FINAL TEST - Loss: 0.6357, Acc: 0.6478\n"
     ]
    }
   ],
   "source": [
    "train_model(transformer_model)"
   ]
  },
  {
   "cell_type": "code",
   "execution_count": 32,
   "id": "ebd4d2b0",
   "metadata": {},
   "outputs": [
    {
     "data": {
      "text/plain": [
       "label\n",
       "neutral    1279\n",
       "entails     842\n",
       "Name: count, dtype: int64"
      ]
     },
     "execution_count": 32,
     "metadata": {},
     "output_type": "execute_result"
    }
   ],
   "source": [
    "clean_test_dataset['label'].value_counts()"
   ]
  },
  {
   "cell_type": "code",
   "execution_count": 33,
   "id": "cef84ab4",
   "metadata": {},
   "outputs": [
    {
     "name": "stdout",
     "output_type": "stream",
     "text": [
      "Accuracy: 0.65\n",
      "F1 Score: 0.63\n",
      "Precision: 0.54\n",
      "Recall: 0.77\n",
      "----------------------------------------\n",
      "              precision    recall  f1-score   support\n",
      "\n",
      "     neutral       0.79      0.57      0.66      1279\n",
      "     entails       0.54      0.77      0.63       842\n",
      "\n",
      "    accuracy                           0.65      2121\n",
      "   macro avg       0.66      0.67      0.65      2121\n",
      "weighted avg       0.69      0.65      0.65      2121\n",
      "\n",
      "----------------------------------------\n",
      "Hyperparameters Transformer\n",
      "Batch Size 64\n",
      "Num of Epochs 7\n",
      "Learning Rate 5e-05\n",
      "Num Classes 2\n",
      "Number of Heads 2\n",
      "Numer of Layers 2\n",
      "Embedding Dimensions 200\n",
      "Dropout 0.2\n",
      "Weight Decay 0.003\n",
      "----------------------------------------\n",
      "Embedding Hyperparameters\n",
      "Embedding Batch 512\n",
      "Max pre-processing len: 128\n",
      "Embedding size: 200\n",
      "Embedding lr: 0.0005\n",
      "Embedding Epoch: 3\n",
      "Embedding Window Size: 5\n"
     ]
    }
   ],
   "source": [
    "from sklearn.metrics import accuracy_score, f1_score, precision_score, recall_score, classification_report\n",
    "\n",
    "transformer_model.eval()\n",
    "all_preds = []\n",
    "all_labels = []\n",
    "\n",
    "with torch.no_grad():\n",
    "    for input_ids, attention_mask, labels in test_loader:\n",
    "        input_ids      = input_ids.to(device)\n",
    "        attention_mask = attention_mask.to(device)\n",
    "        labels         = labels.to(device)\n",
    "\n",
    "        logits = transformer_model(input_ids, attention_mask)\n",
    "        preds = logits.argmax(dim=1).cpu().numpy()\n",
    "\n",
    "        all_preds.extend(preds)\n",
    "        all_labels.extend(labels.cpu().numpy())\n",
    "\n",
    "print(\"Accuracy:\", round(accuracy_score(all_labels, all_preds), 2))\n",
    "print(f\"F1 Score: {f1_score(all_labels, all_preds):.2f}\")\n",
    "print(\"Precision:\", round(precision_score(all_labels, all_preds), 2))\n",
    "print(\"Recall:\", round(recall_score(all_labels, all_preds), 2))\n",
    "print(\"-\" * 40)\n",
    "print(classification_report(all_labels, all_preds, target_names=[\"neutral\", \"entails\"]))\n",
    "\n",
    "# Hyperparameters Transformer\n",
    "print('-' * 40)\n",
    "print('Hyperparameters Transformer')\n",
    "print('Batch Size', hyperparameters.batch_size)\n",
    "print('Num of Epochs', hyperparameters.train_num_epoch)\n",
    "print('Learning Rate', hyperparameters.lr)\n",
    "print('Num Classes', hyperparameters.num_classes)\n",
    "print('Number of Heads', hyperparameters.n_heads)\n",
    "print('Numer of Layers', hyperparameters.n_layers)\n",
    "print('Embedding Dimensions', hyperparameters.emb_size)\n",
    "print('Dropout', hyperparameters.dropout)\n",
    "print('Weight Decay', hyperparameters.wd)\n",
    "#Print embedding HyperParameters\n",
    "print('-' * 40)\n",
    "print('Embedding Hyperparameters')\n",
    "print('Embedding Batch', hyperparameters.emb_batch)\n",
    "print('Max pre-processing len:', hyperparameters.max_pre_pros_len)\n",
    "print('Embedding size:', hyperparameters.emb_size)\n",
    "print('Embedding lr:', hyperparameters.emb_lr)\n",
    "print('Embedding Epoch:', hyperparameters.emb_epoch)\n",
    "print('Embedding Window Size:', hyperparameters.emb_window_size)\n",
    "\n"
   ]
  },
  {
   "cell_type": "code",
   "execution_count": 34,
   "id": "64f35c0f",
   "metadata": {},
   "outputs": [
    {
     "data": {
      "image/png": "[encoded data removed]",
      "text/plain": [
       "<Figure size 1000x800 with 2 Axes>"
      ]
     },
     "metadata": {},
     "output_type": "display_data"
    },
    {
     "data": {
      "image/png": "[encoded data removed]",
      "text/plain": [
       "<Figure size 1000x800 with 2 Axes>"
      ]
     },
     "metadata": {},
     "output_type": "display_data"
    }
   ],
   "source": [
    "# Get the attention \n",
    "sample_token_ids = x_train[0].unsqueeze(0)\n",
    "sample_mask = train_masks[0].unsqueeze(0)\n",
    "\n",
    "# 2. Convert the token IDs back to words for the plot labels\n",
    "# This is the key step you were asking about\n",
    "plot_tokens = [id2word[int(token_id)] for token_id in x_train[3]]\n",
    "\n",
    "# Get the attention weights from the model\n",
    "attention_weights = transformer_model.get_attention_weights(\n",
    "    sample_token_ids.to(device),\n",
    "    sample_mask.to(device)\n",
    ")\n",
    "\n",
    "# Plot the attention for the first head (head 0)\n",
    "plot_attention_head(attention_weights, plot_tokens, head_index=1)\n",
    "plot_attention_head(attention_weights, plot_tokens, head_index=0)\n",
    "\n",
    "# You can plot other heads by changing the head_index\n",
    "# For example, if you have n_heads=2:\n",
    "# plot_attention_head(attention_weights, plot_tokens, head_index=1)"
   ]
  }
 ],
 "metadata": {
  "kernelspec": {
   "display_name": ".venv",
   "language": "python",
   "name": "python3"
  },
  "language_info": {
   "codemirror_mode": {
    "name": "ipython",
    "version": 3
   },
   "file_extension": ".py",
   "mimetype": "text/x-python",
   "name": "python",
   "nbconvert_exporter": "python",
   "pygments_lexer": "ipython3",
   "version": "3.12.10"
  }
 },
 "nbformat": 4,
 "nbformat_minor": 5
}
