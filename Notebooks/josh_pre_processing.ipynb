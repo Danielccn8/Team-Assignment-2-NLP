{
  "cells": [
    {
      "cell_type": "markdown",
      "metadata": {
        "id": "32yCsRUo8H33"
      },
      "source": [
        "# 2025 CITS4012 Project\n",
        "*Make sure you change the file name with your group id.*"
      ]
    },
    {
      "cell_type": "code",
      "execution_count": 43,
      "metadata": {},
      "outputs": [
        {
          "name": "stderr",
          "output_type": "stream",
          "text": [
            "[nltk_data] Downloading package punkt_tab to\n",
            "[nltk_data]     /Users/joshtroy/nltk_data...\n",
            "[nltk_data]   Package punkt_tab is already up-to-date!\n"
          ]
        }
      ],
      "source": [
        "import numpy as np\n",
        "import matplotlib.pyplot as plt\n",
        "import seaborn as sns\n",
        "import json\n",
        "import pprint\n",
        "\n",
        "# For data processing\n",
        "import re\n",
        "import nltk\n",
        "nltk.download('punkt_tab')\n",
        "from nltk.tokenize import word_tokenize, sent_tokenize\n",
        "\n",
        "# For implementing the word2vec family of algorithms\n",
        "from gensim.models import FastText, KeyedVectors\n",
        "import warnings\n",
        "warnings.simplefilter(action='ignore', category=FutureWarning)"
      ]
    },
    {
      "cell_type": "markdown",
      "metadata": {
        "id": "XCybYoGz8YWQ"
      },
      "source": [
        "# Readme\n",
        "*If there is something to be noted for the marker, please mention here.*\n",
        "\n",
        "*If you are planning to implement a program with Object Oriented Programming style, please put those the bottom of this ipynb file*"
      ]
    },
    {
      "cell_type": "markdown",
      "metadata": {
        "id": "6po98qVA8bJD"
      },
      "source": [
        "# 1.Dataset Processing\n",
        "(You can add as many code blocks and text blocks as you need. However, YOU SHOULD NOT MODIFY the section title)"
      ]
    },
    {
      "cell_type": "markdown",
      "metadata": {},
      "source": [
        "## 1.1. Basic preparation: create desired format of words"
      ]
    },
    {
      "cell_type": "code",
      "execution_count": 4,
      "metadata": {
        "id": "qvff21Hv8zjk"
      },
      "outputs": [],
      "source": [
        "# Load datasets\n",
        "train_raw = json.load(open('train.json'))\n",
        "val_raw = json.load(open('validation.json'))\n",
        "test_raw = json.load(open('test.json'))"
      ]
    },
    {
      "cell_type": "code",
      "execution_count": 133,
      "metadata": {},
      "outputs": [],
      "source": [
        "# Common English contractions.\n",
        "contraction_dict = {\"ain't\": \"is not\", \"aren't\": \"are not\",\"can't\": \"cannot\", \"'cause\": \"because\", \"could've\": \"could have\",\n",
        "                    \"couldn't\": \"could not\", \"didn't\": \"did not\",  \"doesn't\": \"does not\", \"don't\": \"do not\", \"hadn't\": \"had not\",\n",
        "                    \"hasn't\": \"has not\", \"haven't\": \"have not\", \"he'd\": \"he would\",\"he'll\": \"he will\", \"he's\": \"he is\", \"how'd\": \"how did\",\n",
        "                    \"how'd'y\": \"how do you\", \"how'll\": \"how will\", \"how's\": \"how is\",  \"I'd\": \"I would\", \"I'd've\": \"I would have\",\n",
        "                    \"I'll\": \"I will\", \"I'll've\": \"I will have\",\"I'm\": \"I am\", \"I've\": \"I have\", \"i'd\": \"i would\", \"i'd've\": \"i would have\",\n",
        "                    \"i'll\": \"i will\",  \"i'll've\": \"i will have\",\"i'm\": \"i am\", \"i've\": \"i have\", \"isn't\": \"is not\", \"it'd\": \"it would\",\n",
        "                    \"it'd've\": \"it would have\", \"it'll\": \"it will\", \"it'll've\": \"it will have\",\"it's\": \"it is\", \"let's\": \"let us\",\n",
        "                    \"ma'am\": \"madam\", \"mayn't\": \"may not\", \"might've\": \"might have\",\"mightn't\": \"might not\",\"mightn't've\": \"might not have\",\n",
        "                    \"must've\": \"must have\", \"mustn't\": \"must not\", \"mustn't've\": \"must not have\", \"needn't\": \"need not\", \"needn't've\": \"need not have\",\n",
        "                    \"o'clock\": \"of the clock\", \"oughtn't\": \"ought not\", \"oughtn't've\": \"ought not have\", \"shan't\": \"shall not\", \"sha'n't\": \"shall not\",\n",
        "                    \"shan't've\": \"shall not have\", \"she'd\": \"she would\", \"she'd've\": \"she would have\", \"she'll\": \"she will\", \"she'll've\": \"she will have\",\n",
        "                    \"she's\": \"she is\", \"should've\": \"should have\", \"shouldn't\": \"should not\", \"shouldn't've\": \"should not have\", \"so've\": \"so have\",\n",
        "                    \"so's\": \"so as\", \"this's\": \"this is\",\"that'd\": \"that would\", \"that'd've\": \"that would have\", \"that's\": \"that is\", \"there'd\": \"there would\",\n",
        "                    \"there'd've\": \"there would have\", \"there's\": \"there is\", \"here's\": \"here is\",\"they'd\": \"they would\", \"they'd've\": \"they would have\",\n",
        "                    \"they'll\": \"they will\", \"they'll've\": \"they will have\", \"they're\": \"they are\", \"they've\": \"they have\", \"to've\": \"to have\", \"wasn't\": \"was not\",\n",
        "                    \"we'd\": \"we would\", \"we'd've\": \"we would have\", \"we'll\": \"we will\", \"we'll've\": \"we will have\", \"we're\": \"we are\", \"we've\": \"we have\",\n",
        "                    \"weren't\": \"were not\", \"what'll\": \"what will\", \"what'll've\": \"what will have\", \"what're\": \"what are\",  \"what's\": \"what is\", \"what've\": \"what have\",\n",
        "                    \"when's\": \"when is\", \"when've\": \"when have\", \"where'd\": \"where did\", \"where's\": \"where is\", \"where've\": \"where have\", \"who'll\": \"who will\",\n",
        "                    \"who'll've\": \"who will have\", \"who's\": \"who is\", \"who've\": \"who have\", \"why's\": \"why is\", \"why've\": \"why have\", \"will've\": \"will have\",\n",
        "                    \"won't\": \"will not\", \"won't've\": \"will not have\", \"would've\": \"would have\", \"wouldn't\": \"would not\", \"wouldn't've\": \"would not have\",\n",
        "                    \"y'all\": \"you all\", \"y'all'd\": \"you all would\",\"y'all'd've\": \"you all would have\",\"y'all're\": \"you all are\",\"y'all've\": \"you all have\",\n",
        "                    \"you'd\": \"you would\", \"you'd've\": \"you would have\", \"you'll\": \"you will\", \"you'll've\": \"you will have\", \"you're\": \"you are\", \"you've\": \"you have\"}\n",
        "\n",
        "# Preprocess a list of sentences\n",
        "def pre_process(sent_list):\n",
        "    output = []\n",
        "    for sent in sent_list:\n",
        "        sent = sent.lower() #case-folding\n",
        "        for word, new_word in contraction_dict.items():\n",
        "            sent = sent.replace(word, new_word) #dealing with contractions\n",
        "        sent = re.sub(r'[^\\w\\s]','',sent) #removing punctuation\n",
        "        output.append(word_tokenize(sent)) #tokenization\n",
        "    return output\n",
        "\n",
        "def pre_process_datasets(dataset):\n",
        "    raw_premises = []\n",
        "    raw_hypotheses = []\n",
        "    labels = []\n",
        "    label_keys = []\n",
        "    keys_as_integers = []\n",
        "    for key, value in dataset['label'].items():\n",
        "        labels.append(value)\n",
        "        label_keys.append(key)\n",
        "        keys_as_integers.append(int(key))\n",
        "    raw_premises = [dataset['premise'][key] for key in label_keys]\n",
        "    raw_hypotheses = [dataset['hypothesis'][key] for key in label_keys]\n",
        "    processed_premises = pre_process(raw_premises)\n",
        "    processed_hypotheses = pre_process(raw_hypotheses)\n",
        "    return processed_premises, processed_hypotheses, labels, keys_as_integers\n",
        "        \n",
        "        \n",
        "# Preprocessing the data using the functions defined above\n",
        "all_train_premises, all_train_hypotheses, all_train_labels, all_train_keyints = pre_process_datasets(train_raw)\n",
        "all_val_premises, all_val_hypotheses, all_val_labels, all_val_keyints = pre_process_datasets(val_raw)\n",
        "all_test_premises, all_test_hypotheses, all_test_labels, all_test_keyints = pre_process_datasets(test_raw)"
      ]
    },
    {
      "cell_type": "code",
      "execution_count": 134,
      "metadata": {},
      "outputs": [
        {
          "name": "stdout",
          "output_type": "stream",
          "text": [
            "\n",
            " ***Before Processing***\n",
            "By combining an up-to-date child I.D. card and the DNA I.D. Kit, parents can have a valuable child identification system.\n",
            "Children resemble their parents because they have similar dna.\n",
            "neutral\n",
            "\n",
            " ***After Processing***\n",
            "['by', 'combining', 'an', 'uptodate', 'child', 'id', 'card', 'and', 'the', 'dna', 'id', 'kit', 'parents', 'can', 'have', 'a', 'valuable', 'child', 'identification', 'system']\n",
            "['children', 'resemble', 'their', 'parents', 'because', 'they', 'have', 'similar', 'dna']\n",
            "neutral\n"
          ]
        }
      ],
      "source": [
        "# Example processing\n",
        "i = '100'\n",
        "print(\"\\n ***Before Processing***\")\n",
        "print(train_raw['premise'][i])\n",
        "print(train_raw['hypothesis'][i])\n",
        "print(train_raw['label'][i])\n",
        "print(\"\\n ***After Processing***\")\n",
        "print(all_train_premises[int(i)])\n",
        "print(all_train_hypotheses[int(i)])\n",
        "print(all_train_labels[int(i)])"
      ]
    },
    {
      "cell_type": "markdown",
      "metadata": {},
      "source": [
        "## 1.2. Clean dataset: remove pathalogical instances"
      ]
    },
    {
      "cell_type": "code",
      "execution_count": 138,
      "metadata": {},
      "outputs": [
        {
          "name": "stdout",
          "output_type": "stream",
          "text": [
            "Maximum sentence length: 10563\n",
            "Minimum sentence length: 0\n"
          ]
        },
        {
          "data": {
            "image/png": "[encoded data removed]",
            "text/plain": [
              "<Figure size 640x480 with 1 Axes>"
            ]
          },
          "metadata": {},
          "output_type": "display_data"
        }
      ],
      "source": [
        "# create combined premise/hypothesis list from the training set to examine\n",
        "all_train_sentences = all_train_premises + all_train_hypotheses\n",
        "\n",
        "lengths = np.array([len(sent) for sent in all_train_sentences])\n",
        "print(f'Maximum sentence length: {lengths.max()}')\n",
        "print(f'Minimum sentence length: {lengths.min()}')\n",
        "\n",
        "sns.histplot(lengths[lengths < 60])\n",
        "plt.title('Sentence Lengths in Training Set')\n",
        "plt.show()"
      ]
    },
    {
      "cell_type": "code",
      "execution_count": 139,
      "metadata": {},
      "outputs": [],
      "source": [
        "# Only allow sentences between 3 and MAXLENGTH (=60) words\n",
        "maxlength = 60\n",
        "\n",
        "def clean_dataset(premises, hypotheses, labels, keys):\n",
        "    cleaned_premises = []\n",
        "    cleaned_hypotheses = []\n",
        "    cleaned_labels = []\n",
        "    cleaned_keys = []\n",
        "    for i in keys:\n",
        "        if len(premises[i]) >= 3 and len(premises[i]) <= maxlength and len(hypotheses[i]) >= 3 and len(hypotheses[i]) <= maxlength:\n",
        "            cleaned_premises.append(premises[i])\n",
        "            cleaned_hypotheses.append(hypotheses[i])\n",
        "            cleaned_labels.append(labels[i])\n",
        "            cleaned_keys.append(i)\n",
        "    return cleaned_premises, cleaned_hypotheses, cleaned_labels, cleaned_keys\n",
        "\n",
        "# Overwrite the datasets with the cleaned versions, and keep track of the keys that were kept\n",
        "train_premises, train_hypotheses, train_labels, clean_train_keyints = clean_dataset(all_train_premises, all_train_hypotheses, all_train_labels, all_train_keyints)\n",
        "val_premises, val_hypotheses, val_labels, clean_val_keyints = clean_dataset(all_val_premises, all_val_hypotheses, all_val_labels, all_val_keyints)\n",
        "test_premises, test_hypotheses, test_labels, clean_test_keyints = clean_dataset(all_test_premises, all_test_hypotheses, all_test_labels, all_test_keyints)"
      ]
    },
    {
      "cell_type": "markdown",
      "metadata": {},
      "source": [
        "## 1.3. Word Embedding"
      ]
    },
    {
      "cell_type": "code",
      "execution_count": 140,
      "metadata": {},
      "outputs": [
        {
          "name": "stdout",
          "output_type": "stream",
          "text": [
            "[('earths', 0.8687229156494141),\n",
            " ('rotates', 0.6821890473365784),\n",
            " ('near', 0.6796729564666748),\n",
            " ('rotating', 0.6730635762214661),\n",
            " ('clockwise', 0.6698991060256958),\n",
            " ('nearby', 0.6662783026695251),\n",
            " ('axis', 0.665779709815979),\n",
            " ('north', 0.665728747844696),\n",
            " ('meteorites', 0.6575096249580383),\n",
            " ('11year', 0.6552407145500183)]\n"
          ]
        }
      ],
      "source": [
        "# FastText model with skipgram\n",
        "train_sentences = train_premises + train_hypotheses\n",
        "ft_vector_size = 128\n",
        "embedding_model = FastText(train_sentences, vector_size=ft_vector_size, window=5, min_count=5, workers=2, sg=1)\n",
        "\n",
        "# Print words most similar to \"tissue\"\n",
        "result = embedding_model.wv.most_similar(\"earth\")\n",
        "pprint.pprint(result)"
      ]
    },
    {
      "cell_type": "code",
      "execution_count": 141,
      "metadata": {},
      "outputs": [],
      "source": [
        "# Create embeddings of the words; pad to maxlength\n",
        "def create_input_vectors(tokens):\n",
        "    embedded_sentences = np.zeros((len(tokens), maxlength, ft_vector_size)) \n",
        "    for sent_idx, sent in enumerate(tokens):\n",
        "        sent_embedding = np.array([embedding_model.wv[word] for word in sent][0:maxlength])\n",
        "        if len(sent_embedding) < maxlength:\n",
        "            padding = np.zeros((maxlength - len(sent_embedding), ft_vector_size))\n",
        "            sent_embedding = np.vstack((sent_embedding, padding))\n",
        "        embedded_sentences[sent_idx] = sent_embedding\n",
        "    return embedded_sentences\n",
        "\n",
        "X_train_premises = create_input_vectors(train_premises)\n",
        "X_train_hypotheses = create_input_vectors(train_hypotheses)\n",
        "\n",
        "X_val_premises = create_input_vectors(val_premises)\n",
        "X_val_hypotheses = create_input_vectors(val_hypotheses)\n",
        "\n",
        "X_test_premises = create_input_vectors(test_premises)\n",
        "X_test_hypotheses = create_input_vectors(test_hypotheses)\n",
        "\n",
        "# Make the labels binary (1 for 'entails', 0 for 'neutral')\n",
        "y_train = np.array([1 if label == 'entails' else 0 for label in train_labels])\n",
        "y_val = np.array([1 if label == 'entails' else 0 for label in val_labels])\n",
        "y_test = np.array([1 if label == 'entails' else 0 for label in test_labels])\n"
      ]
    },
    {
      "cell_type": "markdown",
      "metadata": {
        "id": "1FA2ao2l8hOg"
      },
      "source": [
        "# 2. Model Implementation\n",
        "(You can add as many code blocks and text blocks as you need. However, YOU SHOULD NOT MODIFY the section title)"
      ]
    },
    {
      "cell_type": "code",
      "execution_count": 63,
      "metadata": {
        "id": "QIEqDDT78q39"
      },
      "outputs": [],
      "source": [
        "import torch\n",
        "import torch.nn as nn\n",
        "from torch import optim\n",
        "import torch.nn.functional as F\n",
        "\n",
        "device = torch.device(\"cuda\" if torch.cuda.is_available() else \"cpu\")"
      ]
    },
    {
      "cell_type": "code",
      "execution_count": null,
      "metadata": {},
      "outputs": [],
      "source": [
        "class EncoderRNN(nn.Module):\n",
        "    def __init__(self, hidden_size, embedding):\n",
        "        super(EncoderRNN, self).__init__()\n",
        "        self.hidden_size = hidden_size\n",
        "\n",
        "        self.embedding = embedding\n",
        "\n",
        "        self.gru = nn.GRU(hidden_size, hidden_size)\n",
        "\n",
        "\n",
        "    def forward(self, input, hidden):\n",
        "        embedded = self.embedding(input).view(1, 1, -1)\n",
        "        output, hidden = self.gru(embedded, hidden)\n",
        "        return output, hidden\n",
        "\n",
        "    def initHidden(self):\n",
        "        return torch.zeros(1, 1, self.hidden_size, device=device)\n",
        "    \n",
        "    \n",
        "class AttnDecoderRNN(nn.Module):\n",
        "    ATTN_TYPE_DOT_PRODUCT = \"Dot Product\"\n",
        "    # We will practise the scaled dot product attention in the exercise\n",
        "    ATTN_TYPE_SCALE_DOT_PRODUCT = \"Scale Dot Product\"\n",
        "\n",
        "    def __init__(self, hidden_size, output_size, embedding, dropout_p=0.1, max_length=MAX_LENGTH):\n",
        "        super(AttnDecoderRNN, self).__init__()\n",
        "        self.hidden_size = hidden_size\n",
        "        self.output_size = output_size\n",
        "        self.dropout_p = dropout_p\n",
        "        self.max_length = max_length\n",
        "\n",
        "        self.embedding = embedding\n",
        "        self.dropout = nn.Dropout(self.dropout_p)\n",
        "        self.gru = nn.GRU(self.hidden_size, self.hidden_size)\n",
        "        self.out = nn.Linear(self.hidden_size*2, self.output_size)\n",
        "\n",
        "\n",
        "    def cal_attention(self, hidden, encoder_hiddens, method):\n",
        "        if method == AttnDecoderRNN.ATTN_TYPE_DOT_PRODUCT:\n",
        "            # bmm: https://pytorch.org/docs/master/generated/torch.bmm.html\n",
        "            attn_weights = F.softmax(torch.bmm(hidden, encoder_hiddens.T.unsqueeze(0)),dim=-1)\n",
        "            attn_output = torch.bmm(attn_weights, encoder_hiddens.unsqueeze(0))\n",
        "            concat_output = torch.cat((attn_output[0], hidden[0]), 1)\n",
        "\n",
        "        return concat_output\n",
        "\n",
        "    def forward(self, input, hidden, encoder_hiddens):\n",
        "        embedded = self.embedding(input).view(1, 1, -1)\n",
        "        embedded = self.dropout(embedded)\n",
        "\n",
        "        _, hidden = self.gru(embedded, hidden)\n",
        "\n",
        "        concat_output = self.cal_attention(hidden, encoder_hiddens, AttnDecoderRNN.ATTN_TYPE_DOT_PRODUCT)\n",
        "\n",
        "        output = F.log_softmax(self.out(concat_output), dim=1)\n",
        "        return output, hidden\n",
        "\n",
        "    def initHidden(self):\n",
        "        return torch.zeros(1, 1, self.hidden_size, device=device)"
      ]
    },
    {
      "cell_type": "markdown",
      "metadata": {
        "id": "EzGuzHPE87Ya"
      },
      "source": [
        "# 3.Testing and Evaluation\n",
        "(You can add as many code blocks and text blocks as you need. However, YOU SHOULD NOT MODIFY the section title)"
      ]
    },
    {
      "cell_type": "code",
      "execution_count": null,
      "metadata": {
        "id": "6ZVeNYIH9IaL"
      },
      "outputs": [],
      "source": []
    },
    {
      "cell_type": "markdown",
      "metadata": {
        "id": "mefSOe8eTmGP"
      },
      "source": [
        "## Object Oriented Programming codes here\n",
        "\n",
        "*You can use multiple code snippets. Just add more if needed*"
      ]
    }
  ],
  "metadata": {
    "colab": {
      "provenance": [],
      "toc_visible": true
    },
    "kernelspec": {
      "display_name": "Python 3",
      "name": "python3"
    },
    "language_info": {
      "codemirror_mode": {
        "name": "ipython",
        "version": 3
      },
      "file_extension": ".py",
      "mimetype": "text/x-python",
      "name": "python",
      "nbconvert_exporter": "python",
      "pygments_lexer": "ipython3",
      "version": "3.12.10"
    }
  },
  "nbformat": 4,
  "nbformat_minor": 0
}
