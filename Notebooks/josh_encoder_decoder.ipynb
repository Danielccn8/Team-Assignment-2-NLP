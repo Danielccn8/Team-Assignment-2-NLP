{
  "cells": [
    {
      "cell_type": "markdown",
      "metadata": {
        "id": "32yCsRUo8H33"
      },
      "source": [
        "# 2025 CITS4012 Project\n",
        "*Make sure you change the file name with your group id.*"
      ]
    },
    {
      "cell_type": "code",
      "execution_count": 1,
      "metadata": {},
      "outputs": [
        {
          "name": "stderr",
          "output_type": "stream",
          "text": [
            "[nltk_data] Downloading package punkt_tab to\n",
            "[nltk_data]     C:\\Users\\Josh\\AppData\\Roaming\\nltk_data...\n",
            "[nltk_data]   Package punkt_tab is already up-to-date!\n"
          ]
        }
      ],
      "source": [
        "import numpy as np\n",
        "import matplotlib.pyplot as plt\n",
        "import seaborn as sns\n",
        "import json\n",
        "import pprint\n",
        "\n",
        "# For data processing\n",
        "import re\n",
        "import nltk\n",
        "nltk.download('punkt_tab')\n",
        "from nltk.tokenize import word_tokenize, sent_tokenize\n",
        "\n",
        "# For implementing the word2vec family of algorithms\n",
        "from gensim.models import FastText, KeyedVectors\n",
        "import warnings\n",
        "warnings.simplefilter(action='ignore', category=FutureWarning)"
      ]
    },
    {
      "cell_type": "markdown",
      "metadata": {
        "id": "XCybYoGz8YWQ"
      },
      "source": [
        "# Readme\n",
        "*If there is something to be noted for the marker, please mention here.*\n",
        "\n",
        "*If you are planning to implement a program with Object Oriented Programming style, please put those the bottom of this ipynb file*"
      ]
    },
    {
      "cell_type": "markdown",
      "metadata": {
        "id": "6po98qVA8bJD"
      },
      "source": [
        "# 1.Dataset Processing\n",
        "(You can add as many code blocks and text blocks as you need. However, YOU SHOULD NOT MODIFY the section title)"
      ]
    },
    {
      "cell_type": "markdown",
      "metadata": {},
      "source": [
        "## 1.1. Basic preparation: create desired format of words"
      ]
    },
    {
      "cell_type": "code",
      "execution_count": 2,
      "metadata": {
        "id": "qvff21Hv8zjk"
      },
      "outputs": [],
      "source": [
        "# Load datasets\n",
        "train_raw = json.load(open('train.json'))\n",
        "val_raw = json.load(open('validation.json'))\n",
        "test_raw = json.load(open('test.json'))"
      ]
    },
    {
      "cell_type": "code",
      "execution_count": 31,
      "metadata": {},
      "outputs": [],
      "source": [
        "# Common English contractions.\n",
        "contraction_dict = {\"ain't\": \"is not\", \"aren't\": \"are not\",\"can't\": \"cannot\", \"'cause\": \"because\", \"could've\": \"could have\",\n",
        "                    \"couldn't\": \"could not\", \"didn't\": \"did not\",  \"doesn't\": \"does not\", \"don't\": \"do not\", \"hadn't\": \"had not\",\n",
        "                    \"hasn't\": \"has not\", \"haven't\": \"have not\", \"he'd\": \"he would\",\"he'll\": \"he will\", \"he's\": \"he is\", \"how'd\": \"how did\",\n",
        "                    \"how'd'y\": \"how do you\", \"how'll\": \"how will\", \"how's\": \"how is\",  \"I'd\": \"I would\", \"I'd've\": \"I would have\",\n",
        "                    \"I'll\": \"I will\", \"I'll've\": \"I will have\",\"I'm\": \"I am\", \"I've\": \"I have\", \"i'd\": \"i would\", \"i'd've\": \"i would have\",\n",
        "                    \"i'll\": \"i will\",  \"i'll've\": \"i will have\",\"i'm\": \"i am\", \"i've\": \"i have\", \"isn't\": \"is not\", \"it'd\": \"it would\",\n",
        "                    \"it'd've\": \"it would have\", \"it'll\": \"it will\", \"it'll've\": \"it will have\",\"it's\": \"it is\", \"let's\": \"let us\",\n",
        "                    \"ma'am\": \"madam\", \"mayn't\": \"may not\", \"might've\": \"might have\",\"mightn't\": \"might not\",\"mightn't've\": \"might not have\",\n",
        "                    \"must've\": \"must have\", \"mustn't\": \"must not\", \"mustn't've\": \"must not have\", \"needn't\": \"need not\", \"needn't've\": \"need not have\",\n",
        "                    \"o'clock\": \"of the clock\", \"oughtn't\": \"ought not\", \"oughtn't've\": \"ought not have\", \"shan't\": \"shall not\", \"sha'n't\": \"shall not\",\n",
        "                    \"shan't've\": \"shall not have\", \"she'd\": \"she would\", \"she'd've\": \"she would have\", \"she'll\": \"she will\", \"she'll've\": \"she will have\",\n",
        "                    \"she's\": \"she is\", \"should've\": \"should have\", \"shouldn't\": \"should not\", \"shouldn't've\": \"should not have\", \"so've\": \"so have\",\n",
        "                    \"so's\": \"so as\", \"this's\": \"this is\",\"that'd\": \"that would\", \"that'd've\": \"that would have\", \"that's\": \"that is\", \"there'd\": \"there would\",\n",
        "                    \"there'd've\": \"there would have\", \"there's\": \"there is\", \"here's\": \"here is\",\"they'd\": \"they would\", \"they'd've\": \"they would have\",\n",
        "                    \"they'll\": \"they will\", \"they'll've\": \"they will have\", \"they're\": \"they are\", \"they've\": \"they have\", \"to've\": \"to have\", \"wasn't\": \"was not\",\n",
        "                    \"we'd\": \"we would\", \"we'd've\": \"we would have\", \"we'll\": \"we will\", \"we'll've\": \"we will have\", \"we're\": \"we are\", \"we've\": \"we have\",\n",
        "                    \"weren't\": \"were not\", \"what'll\": \"what will\", \"what'll've\": \"what will have\", \"what're\": \"what are\",  \"what's\": \"what is\", \"what've\": \"what have\",\n",
        "                    \"when's\": \"when is\", \"when've\": \"when have\", \"where'd\": \"where did\", \"where's\": \"where is\", \"where've\": \"where have\", \"who'll\": \"who will\",\n",
        "                    \"who'll've\": \"who will have\", \"who's\": \"who is\", \"who've\": \"who have\", \"why's\": \"why is\", \"why've\": \"why have\", \"will've\": \"will have\",\n",
        "                    \"won't\": \"will not\", \"won't've\": \"will not have\", \"would've\": \"would have\", \"wouldn't\": \"would not\", \"wouldn't've\": \"would not have\",\n",
        "                    \"y'all\": \"you all\", \"y'all'd\": \"you all would\",\"y'all'd've\": \"you all would have\",\"y'all're\": \"you all are\",\"y'all've\": \"you all have\",\n",
        "                    \"you'd\": \"you would\", \"you'd've\": \"you would have\", \"you'll\": \"you will\", \"you'll've\": \"you will have\", \"you're\": \"you are\", \"you've\": \"you have\"}\n",
        "\n",
        "# Preprocess a list of sentences\n",
        "def pre_process(sent_list):\n",
        "    output = []\n",
        "    for sent in sent_list:\n",
        "        sent = sent.lower() #case-folding\n",
        "        for word, new_word in contraction_dict.items():\n",
        "            sent = sent.replace(word, new_word) #dealing with contractions\n",
        "        sent = re.sub(r'[^\\w\\s]','',sent) #removing punctuation\n",
        "        output.append(word_tokenize(sent)) #tokenization\n",
        "    return output\n",
        "\n",
        "def pre_process_datasets(dataset):\n",
        "    raw_premises = []\n",
        "    raw_hypotheses = []\n",
        "    labels = []\n",
        "    label_keys = []\n",
        "    keys_as_integers = []\n",
        "    for key, value in dataset['label'].items():\n",
        "        labels.append(value)\n",
        "        label_keys.append(key)\n",
        "        keys_as_integers.append(int(key))\n",
        "    raw_premises = [dataset['premise'][key] for key in label_keys]\n",
        "    raw_hypotheses = [dataset['hypothesis'][key] for key in label_keys]\n",
        "    processed_premises = pre_process(raw_premises)\n",
        "    processed_hypotheses = pre_process(raw_hypotheses)\n",
        "    return processed_premises, processed_hypotheses, labels, keys_as_integers\n",
        "        \n",
        "        \n",
        "# Preprocessing the training using the functions defined above\n",
        "all_train_premises, all_train_hypotheses, all_train_labels, all_train_keyints = pre_process_datasets(train_raw)\n",
        "\n",
        "# setup vocab to index dictionary\n",
        "word_to_ix = {\"<PAD>\": 0, \"<OOV>\": 1}\n",
        "for sentence in all_train_premises+all_train_hypotheses:\n",
        "    for word in sentence:\n",
        "        if word not in word_to_ix:\n",
        "            word_to_ix[word] = len(word_to_ix)\n",
        "word_list = list(word_to_ix.keys())"
      ]
    },
    {
      "cell_type": "code",
      "execution_count": 54,
      "metadata": {},
      "outputs": [],
      "source": [
        "# Convert tokenized sentences to index lists\n",
        "def to_index(data, to_ix, padlength=None):\n",
        "    input_index_list = []\n",
        "    for sent in data:\n",
        "        input_index_list.append([to_ix[w] if w in to_ix else to_ix[\"<OOV>\"] for w in sent])\n",
        "    if padlength is not None:\n",
        "        for i in range(len(input_index_list)):\n",
        "            if len(input_index_list[i]) < padlength:\n",
        "                input_index_list[i] = input_index_list[i] + [to_ix[\"<PAD>\"]] * (padlength - len(input_index_list[i]))\n",
        "    return input_index_list\n",
        "\n",
        "def make_idx_data(data_raw, padlength=None):\n",
        "    premises, hypotheses, labels, keyints = pre_process_datasets(data_raw)\n",
        "    premises_idx = to_index(premises, word_to_ix, padlength)\n",
        "    hypotheses_idx = to_index(hypotheses, word_to_ix, padlength)\n",
        "    binary_labels = np.array([1 if label == 'entails' else 0 for label in labels])\n",
        "    return premises_idx, hypotheses_idx, binary_labels, keyints\n",
        "\n",
        "all_train_premises_idx, all_train_hypotheses_idx, all_y_train, _ = make_idx_data(train_raw)"
      ]
    },
    {
      "cell_type": "code",
      "execution_count": 55,
      "metadata": {},
      "outputs": [
        {
          "name": "stdout",
          "output_type": "stream",
          "text": [
            "\n",
            " ***Before Processing***\n",
            "By combining an up-to-date child I.D. card and the DNA I.D. Kit, parents can have a valuable child identification system.\n",
            "Children resemble their parents because they have similar dna.\n",
            "neutral\n",
            "\n",
            " ***After Processing***\n",
            "['by', 'combining', 'an', 'uptodate', 'child', 'id', 'card', 'and', 'the', 'dna', 'id', 'kit', 'parents', 'can', 'have', 'a', 'valuable', 'child', 'identification', 'system']\n",
            "['children', 'resemble', 'their', 'parents', 'because', 'they', 'have', 'similar', 'dna']\n",
            "neutral\n",
            "\n",
            " ***After Indexation***\n",
            "[39, 750, 285, 751, 425, 752, 753, 41, 15, 416, 752, 754, 420, 28, 67, 35, 755, 425, 756, 74]\n",
            "[99, 1078, 271, 420, 1138, 97, 67, 473, 416]\n",
            "0\n"
          ]
        }
      ],
      "source": [
        "# Example processing\n",
        "i = '100'\n",
        "print(\"\\n ***Before Processing***\")\n",
        "print(train_raw['premise'][i])\n",
        "print(train_raw['hypothesis'][i])\n",
        "print(train_raw['label'][i])\n",
        "print(\"\\n ***After Processing***\")\n",
        "print(all_train_premises[int(i)])\n",
        "print(all_train_hypotheses[int(i)])\n",
        "print(all_train_labels[int(i)])\n",
        "print(\"\\n ***After Indexation***\")\n",
        "print(all_train_premises_idx[int(i)])\n",
        "print(all_train_hypotheses_idx[int(i)])\n",
        "print(all_y_train[int(i)])"
      ]
    },
    {
      "cell_type": "markdown",
      "metadata": {},
      "source": [
        "## 1.2. Clean dataset: remove pathalogical instances"
      ]
    },
    {
      "cell_type": "code",
      "execution_count": 56,
      "metadata": {},
      "outputs": [
        {
          "name": "stdout",
          "output_type": "stream",
          "text": [
            "Maximum sentence length: 10563\n",
            "Minimum sentence length: 0\n"
          ]
        },
        {
          "data": {
            "image/png": "[encoded data removed]",
            "text/plain": [
              "<Figure size 640x480 with 1 Axes>"
            ]
          },
          "metadata": {},
          "output_type": "display_data"
        }
      ],
      "source": [
        "# create combined premise/hypothesis list from the training set to examine\n",
        "all_train_sentences = all_train_premises + all_train_hypotheses\n",
        "\n",
        "lengths = np.array([len(sent) for sent in all_train_sentences])\n",
        "print(f'Maximum sentence length: {lengths.max()}')\n",
        "print(f'Minimum sentence length: {lengths.min()}')\n",
        "\n",
        "sns.histplot(lengths[lengths < 60])\n",
        "plt.title('Sentence Lengths in Training Set')\n",
        "plt.show()"
      ]
    },
    {
      "cell_type": "code",
      "execution_count": 72,
      "metadata": {},
      "outputs": [],
      "source": [
        "# Make the final datasets, only allowing sentences up to maxlength long and padding to this maxlength\n",
        "maxlength = 60\n",
        "\n",
        "def make_final_datasets(train_raw, maxlength=maxlength):\n",
        "    premises, hypotheses, labels, keys = make_idx_data(train_raw, padlength=maxlength)\n",
        "    cleaned_premises = []\n",
        "    cleaned_hypotheses = []\n",
        "    cleaned_labels = []\n",
        "    cleaned_keys = []\n",
        "    for i in keys:\n",
        "        if len(premises[i]) >= 3 and len(premises[i]) <= maxlength and len(hypotheses[i]) >= 3 and len(hypotheses[i]) <= maxlength:\n",
        "            cleaned_premises.append(premises[i])\n",
        "            cleaned_hypotheses.append(hypotheses[i])\n",
        "            cleaned_labels.append(labels[i])\n",
        "            cleaned_keys.append(i)\n",
        "    return np.array(cleaned_premises, dtype=np.int64), np.array(cleaned_hypotheses, dtype=np.int64), np.array(cleaned_labels, dtype=np.int64), cleaned_keys\n",
        "\n",
        "\n",
        "train_premises, train_hypotheses, y_train, clean_train_keyints = make_final_datasets(train_raw)\n",
        "val_premises, val_hypotheses, y_val, clean_val_keyints = make_final_datasets(val_raw)\n",
        "test_premises, test_hypotheses, y_test, clean_test_keyints = make_final_datasets(test_raw)"
      ]
    },
    {
      "cell_type": "markdown",
      "metadata": {
        "id": "1FA2ao2l8hOg"
      },
      "source": [
        "# 2. Model Implementation\n",
        "(You can add as many code blocks and text blocks as you need. However, YOU SHOULD NOT MODIFY the section title)"
      ]
    },
    {
      "cell_type": "code",
      "execution_count": 63,
      "metadata": {
        "id": "QIEqDDT78q39"
      },
      "outputs": [
        {
          "data": {
            "text/plain": [
              "device(type='cuda')"
            ]
          },
          "execution_count": 63,
          "metadata": {},
          "output_type": "execute_result"
        }
      ],
      "source": [
        "import torch\n",
        "import torch.nn as nn\n",
        "from torch import optim\n",
        "import torch.nn.functional as F\n",
        "from torch.utils.data import DataLoader, TensorDataset\n",
        "\n",
        "\n",
        "device = torch.device(\"cuda\" if torch.cuda.is_available() else \"cpu\")\n",
        "device"
      ]
    },
    {
      "cell_type": "code",
      "execution_count": null,
      "metadata": {},
      "outputs": [],
      "source": [
        "import torch\n",
        "import torch.nn as nn\n",
        "import torch.nn.functional as F\n",
        "\n",
        "class Attention(nn.Module):\n",
        "    def __init__(self, dec_dim, enc_dim, attn_dim=None):\n",
        "        super().__init__()\n",
        "        if attn_dim is None:\n",
        "            attn_dim = dec_dim\n",
        "        # input to attention = [dec_hidden (dec_dim) ; enc_output (enc_dim)]\n",
        "        self.attn = nn.Linear(dec_dim + enc_dim, attn_dim)\n",
        "        self.v = nn.Linear(attn_dim, 1, bias=False)\n",
        "\n",
        "    def forward(self, decoder_hidden, encoder_outputs):\n",
        "        \"\"\"\n",
        "        decoder_hidden: [batch, dec_dim]\n",
        "        encoder_outputs: [batch, src_len, enc_dim]\n",
        "        \"\"\"\n",
        "        B, T, E = encoder_outputs.size()          # enc_dim = E\n",
        "        # repeat decoder hidden across time\n",
        "        hidden_rep = decoder_hidden.unsqueeze(1).expand(B, T, decoder_hidden.size(1))  # [B, T, dec_dim]\n",
        "        energy = torch.tanh(self.attn(torch.cat([hidden_rep, encoder_outputs], dim=2)))  # [B, T, attn_dim]\n",
        "        scores = self.v(energy).squeeze(2)        # [B, T]\n",
        "        alpha = F.softmax(scores, dim=1)          # [B, T]\n",
        "        return alpha\n",
        "\n",
        "class NLIModel(nn.Module):\n",
        "    def __init__(self, vocab_size, embed_dim, hidden_dim, num_classes):\n",
        "        super().__init__()\n",
        "        self.embedding = nn.Embedding(vocab_size, embed_dim)\n",
        "\n",
        "        # Encoder: bidirectional. Output dim = 2H\n",
        "        self.encoder = nn.LSTM(embed_dim, hidden_dim, batch_first=True, bidirectional=True)\n",
        "\n",
        "        # Decoder: unidirectional. Hidden dim = H\n",
        "        self.decoder = nn.LSTM(embed_dim, hidden_dim, batch_first=True)\n",
        "\n",
        "        # Attention over encoder (enc_dim=2H) using decoder state (dec_dim=H)\n",
        "        self.attention = Attention(dec_dim=hidden_dim, enc_dim=hidden_dim * 2, attn_dim=hidden_dim)\n",
        "\n",
        "        # Final classifier gets [dec_hidden (H) ; context (2H)] = 3H\n",
        "        self.fc = nn.Linear(hidden_dim * 3, num_classes)\n",
        "\n",
        "    def forward(self, premise, hypothesis):\n",
        "        # Encode premise\n",
        "        prem_emb = self.embedding(premise)                      # [B, T_p, E]\n",
        "        enc_outs, _ = self.encoder(prem_emb)                    # [B, T_p, 2H]\n",
        "\n",
        "        # Decode hypothesis (we just use final hidden for classification)\n",
        "        hypo_emb = self.embedding(hypothesis)                   # [B, T_h, E]\n",
        "        dec_outs, (h, c) = self.decoder(hypo_emb)               # h: [1, B, H]\n",
        "        dec_hidden = h[-1]                                      # [B, H]\n",
        "\n",
        "        # Attention over encoder outputs using decoder final state\n",
        "        attn_w = self.attention(dec_hidden, enc_outs)           # [B, T_p]\n",
        "        context = torch.bmm(attn_w.unsqueeze(1), enc_outs).squeeze(1)  # [B, 2H]\n",
        "\n",
        "        # Concatenate decoder hidden and context\n",
        "        combined = torch.cat([dec_hidden, context], dim=1)      # [B, 3H]\n",
        "\n",
        "        logits = self.fc(combined)                              # [B, num_classes]\n",
        "        return F.log_softmax(logits, dim=1)"
      ]
    },
    {
      "cell_type": "code",
      "execution_count": 82,
      "metadata": {},
      "outputs": [
        {
          "name": "stderr",
          "output_type": "stream",
          "text": [
            "C:\\Users\\Josh\\AppData\\Local\\Temp\\ipykernel_11692\\2120145448.py:2: UserWarning: To copy construct from a tensor, it is recommended to use sourceTensor.clone().detach() or sourceTensor.clone().detach().requires_grad_(True), rather than torch.tensor(sourceTensor).\n",
            "  train_premises   = torch.tensor(train_premises, dtype=torch.long)\n",
            "C:\\Users\\Josh\\AppData\\Local\\Temp\\ipykernel_11692\\2120145448.py:3: UserWarning: To copy construct from a tensor, it is recommended to use sourceTensor.clone().detach() or sourceTensor.clone().detach().requires_grad_(True), rather than torch.tensor(sourceTensor).\n",
            "  train_hypotheses = torch.tensor(train_hypotheses, dtype=torch.long)\n",
            "C:\\Users\\Josh\\AppData\\Local\\Temp\\ipykernel_11692\\2120145448.py:4: UserWarning: To copy construct from a tensor, it is recommended to use sourceTensor.clone().detach() or sourceTensor.clone().detach().requires_grad_(True), rather than torch.tensor(sourceTensor).\n",
            "  y_train          = torch.tensor(y_train, dtype=torch.long)\n",
            "C:\\Users\\Josh\\AppData\\Local\\Temp\\ipykernel_11692\\2120145448.py:6: UserWarning: To copy construct from a tensor, it is recommended to use sourceTensor.clone().detach() or sourceTensor.clone().detach().requires_grad_(True), rather than torch.tensor(sourceTensor).\n",
            "  val_premises     = torch.tensor(val_premises, dtype=torch.long)\n",
            "C:\\Users\\Josh\\AppData\\Local\\Temp\\ipykernel_11692\\2120145448.py:7: UserWarning: To copy construct from a tensor, it is recommended to use sourceTensor.clone().detach() or sourceTensor.clone().detach().requires_grad_(True), rather than torch.tensor(sourceTensor).\n",
            "  val_hypotheses   = torch.tensor(val_hypotheses, dtype=torch.long)\n",
            "C:\\Users\\Josh\\AppData\\Local\\Temp\\ipykernel_11692\\2120145448.py:8: UserWarning: To copy construct from a tensor, it is recommended to use sourceTensor.clone().detach() or sourceTensor.clone().detach().requires_grad_(True), rather than torch.tensor(sourceTensor).\n",
            "  y_val            = torch.tensor(y_val, dtype=torch.long)\n"
          ]
        }
      ],
      "source": [
        "# Convert numpy arrays to torch tensors\n",
        "train_premises   = torch.tensor(train_premises, dtype=torch.long)\n",
        "train_hypotheses = torch.tensor(train_hypotheses, dtype=torch.long)\n",
        "y_train          = torch.tensor(y_train, dtype=torch.long)\n",
        "\n",
        "val_premises     = torch.tensor(val_premises, dtype=torch.long)\n",
        "val_hypotheses   = torch.tensor(val_hypotheses, dtype=torch.long)\n",
        "y_val            = torch.tensor(y_val, dtype=torch.long)\n",
        "\n",
        "# Create datasets\n",
        "train_ds = TensorDataset(train_premises, train_hypotheses, y_train)\n",
        "val_ds   = TensorDataset(val_premises, val_hypotheses, y_val)\n",
        "\n",
        "train_loader = DataLoader(train_ds, batch_size=32, shuffle=True)\n",
        "val_loader = DataLoader(val_ds, batch_size=32)"
      ]
    },
    {
      "cell_type": "code",
      "execution_count": 88,
      "metadata": {},
      "outputs": [
        {
          "name": "stdout",
          "output_type": "stream",
          "text": [
            "Epoch 1: Train Loss=0.553, Train Acc=0.714, Val Loss=0.573, Val Acc=0.687\n",
            "Epoch 2: Train Loss=0.416, Train Acc=0.809, Val Loss=0.581, Val Acc=0.708\n",
            "Epoch 3: Train Loss=0.305, Train Acc=0.869, Val Loss=0.626, Val Acc=0.713\n",
            "Epoch 4: Train Loss=0.193, Train Acc=0.924, Val Loss=0.757, Val Acc=0.708\n",
            "Epoch 5: Train Loss=0.108, Train Acc=0.962, Val Loss=1.086, Val Acc=0.692\n"
          ]
        }
      ],
      "source": [
        "# ==== Model, loss, optimizer ====\n",
        "vocab_size = len(word_to_ix)\n",
        "embed_dim = 100\n",
        "hidden_dim = 128\n",
        "num_classes = 2\n",
        "\n",
        "model = NLIModel(vocab_size, embed_dim, hidden_dim, num_classes)\n",
        "criterion = nn.NLLLoss()\n",
        "optimizer = optim.Adam(model.parameters(), lr=1e-3)\n",
        "\n",
        "# ==== Training & Evaluation Loop ====\n",
        "def accuracy(preds, labels):\n",
        "    return (preds.argmax(dim=1) == labels).float().mean().item()\n",
        "\n",
        "for epoch in range(5):  # small number of epochs for demo\n",
        "    model.train()\n",
        "    train_loss, train_acc = 0, 0\n",
        "    for premise, hypo, labels in train_loader:\n",
        "        optimizer.zero_grad()\n",
        "        output = model(premise, hypo)\n",
        "        loss = criterion(output, labels)\n",
        "        loss.backward()\n",
        "        optimizer.step()\n",
        "\n",
        "        train_loss += loss.item()\n",
        "        train_acc += accuracy(output, labels)\n",
        "\n",
        "    # Validation\n",
        "    model.eval()\n",
        "    val_loss, val_acc = 0, 0\n",
        "    with torch.no_grad():\n",
        "        for premise, hypo, labels in val_loader:\n",
        "            output = model(premise, hypo)\n",
        "            loss = criterion(output, labels)\n",
        "            val_loss += loss.item()\n",
        "            val_acc += accuracy(output, labels)\n",
        "\n",
        "    # Average across batches\n",
        "    train_loss /= len(train_loader)\n",
        "    train_acc /= len(train_loader)\n",
        "    val_loss /= len(val_loader)\n",
        "    val_acc /= len(val_loader)\n",
        "\n",
        "    print(f\"Epoch {epoch+1}: \"\n",
        "          f\"Train Loss={train_loss:.3f}, Train Acc={train_acc:.3f}, \"\n",
        "          f\"Val Loss={val_loss:.3f}, Val Acc={val_acc:.3f}\")"
      ]
    },
    {
      "cell_type": "markdown",
      "metadata": {
        "id": "EzGuzHPE87Ya"
      },
      "source": [
        "# 3.Testing and Evaluation\n",
        "(You can add as many code blocks and text blocks as you need. However, YOU SHOULD NOT MODIFY the section title)"
      ]
    },
    {
      "cell_type": "code",
      "execution_count": null,
      "metadata": {
        "id": "6ZVeNYIH9IaL"
      },
      "outputs": [],
      "source": []
    },
    {
      "cell_type": "markdown",
      "metadata": {
        "id": "mefSOe8eTmGP"
      },
      "source": [
        "## Object Oriented Programming codes here\n",
        "\n",
        "*You can use multiple code snippets. Just add more if needed*"
      ]
    }
  ],
  "metadata": {
    "colab": {
      "provenance": [],
      "toc_visible": true
    },
    "kernelspec": {
      "display_name": "Python 3",
      "language": "python",
      "name": "python3"
    },
    "language_info": {
      "codemirror_mode": {
        "name": "ipython",
        "version": 3
      },
      "file_extension": ".py",
      "mimetype": "text/x-python",
      "name": "python",
      "nbconvert_exporter": "python",
      "pygments_lexer": "ipython3",
      "version": "3.12.3"
    }
  },
  "nbformat": 4,
  "nbformat_minor": 0
}
