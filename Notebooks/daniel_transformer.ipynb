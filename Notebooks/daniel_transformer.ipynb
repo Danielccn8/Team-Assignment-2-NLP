{
 "cells": [
  {
   "cell_type": "markdown",
   "id": "38257243",
   "metadata": {},
   "source": [
    "# Daniel's Pre-Processing\n"
   ]
  },
  {
   "cell_type": "markdown",
   "id": "423eb4d3",
   "metadata": {
    "vscode": {
     "languageId": "plaintext"
    }
   },
   "source": [
    "Daniel's Branch Created\n"
   ]
  },
  {
   "cell_type": "code",
   "execution_count": 1,
   "id": "e24fff6a",
   "metadata": {},
   "outputs": [],
   "source": [
    "import pandas as pd\n",
    "import numpy as np"
   ]
  },
  {
   "cell_type": "code",
   "execution_count": 2,
   "id": "53d41667",
   "metadata": {},
   "outputs": [],
   "source": [
    "train_df = pd.read_json('../Dataset/train.json')\n",
    "test_df = pd.read_json('../Dataset/test.json')"
   ]
  },
  {
   "cell_type": "code",
   "execution_count": 3,
   "id": "e6793498",
   "metadata": {},
   "outputs": [
    {
     "data": {
      "text/html": [
       "<div>\n",
       "<style scoped>\n",
       "    .dataframe tbody tr th:only-of-type {\n",
       "        vertical-align: middle;\n",
       "    }\n",
       "\n",
       "    .dataframe tbody tr th {\n",
       "        vertical-align: top;\n",
       "    }\n",
       "\n",
       "    .dataframe thead th {\n",
       "        text-align: right;\n",
       "    }\n",
       "</style>\n",
       "<table border=\"1\" class=\"dataframe\">\n",
       "  <thead>\n",
       "    <tr style=\"text-align: right;\">\n",
       "      <th></th>\n",
       "      <th>premise</th>\n",
       "      <th>hypothesis</th>\n",
       "      <th>label</th>\n",
       "    </tr>\n",
       "  </thead>\n",
       "  <tbody>\n",
       "    <tr>\n",
       "      <th>0</th>\n",
       "      <td>Pluto rotates once on its axis every 6.39 Eart...</td>\n",
       "      <td>Earth rotates on its axis once times in one day.</td>\n",
       "      <td>neutral</td>\n",
       "    </tr>\n",
       "    <tr>\n",
       "      <th>1</th>\n",
       "      <td>---Glenn =====================================...</td>\n",
       "      <td>Earth rotates on its axis once times in one day.</td>\n",
       "      <td>entails</td>\n",
       "    </tr>\n",
       "    <tr>\n",
       "      <th>2</th>\n",
       "      <td>geysers - periodic gush of hot water at the su...</td>\n",
       "      <td>The surface of the sun is much hotter than alm...</td>\n",
       "      <td>neutral</td>\n",
       "    </tr>\n",
       "    <tr>\n",
       "      <th>3</th>\n",
       "      <td>Facts: Liquid water droplets can be changed in...</td>\n",
       "      <td>Evaporation is responsible for changing liquid...</td>\n",
       "      <td>entails</td>\n",
       "    </tr>\n",
       "    <tr>\n",
       "      <th>4</th>\n",
       "      <td>By comparison, the earth rotates on its axis o...</td>\n",
       "      <td>Earth rotates on its axis once times in one day.</td>\n",
       "      <td>entails</td>\n",
       "    </tr>\n",
       "  </tbody>\n",
       "</table>\n",
       "</div>"
      ],
      "text/plain": [
       "                                             premise  \\\n",
       "0  Pluto rotates once on its axis every 6.39 Eart...   \n",
       "1  ---Glenn =====================================...   \n",
       "2  geysers - periodic gush of hot water at the su...   \n",
       "3  Facts: Liquid water droplets can be changed in...   \n",
       "4  By comparison, the earth rotates on its axis o...   \n",
       "\n",
       "                                          hypothesis    label  \n",
       "0   Earth rotates on its axis once times in one day.  neutral  \n",
       "1   Earth rotates on its axis once times in one day.  entails  \n",
       "2  The surface of the sun is much hotter than alm...  neutral  \n",
       "3  Evaporation is responsible for changing liquid...  entails  \n",
       "4   Earth rotates on its axis once times in one day.  entails  "
      ]
     },
     "execution_count": 3,
     "metadata": {},
     "output_type": "execute_result"
    }
   ],
   "source": [
    "train_df.head()"
   ]
  },
  {
   "cell_type": "code",
   "execution_count": 4,
   "id": "37b8d239",
   "metadata": {},
   "outputs": [
    {
     "data": {
      "text/html": [
       "<div>\n",
       "<style scoped>\n",
       "    .dataframe tbody tr th:only-of-type {\n",
       "        vertical-align: middle;\n",
       "    }\n",
       "\n",
       "    .dataframe tbody tr th {\n",
       "        vertical-align: top;\n",
       "    }\n",
       "\n",
       "    .dataframe thead th {\n",
       "        text-align: right;\n",
       "    }\n",
       "</style>\n",
       "<table border=\"1\" class=\"dataframe\">\n",
       "  <thead>\n",
       "    <tr style=\"text-align: right;\">\n",
       "      <th></th>\n",
       "      <th>premise</th>\n",
       "      <th>hypothesis</th>\n",
       "      <th>label</th>\n",
       "    </tr>\n",
       "  </thead>\n",
       "  <tbody>\n",
       "    <tr>\n",
       "      <th>23083</th>\n",
       "      <td>which is not only the motion of our bodies, bu...</td>\n",
       "      <td>Work is done only if a force is exerted in the...</td>\n",
       "      <td>neutral</td>\n",
       "    </tr>\n",
       "    <tr>\n",
       "      <th>23084</th>\n",
       "      <td>The Red Star, that celestial curse whose eccen...</td>\n",
       "      <td>Red-shift refers to a shift toward red in the ...</td>\n",
       "      <td>neutral</td>\n",
       "    </tr>\n",
       "    <tr>\n",
       "      <th>23085</th>\n",
       "      <td>The lines in the spectrum of a luminous body s...</td>\n",
       "      <td>Red-shift refers to a shift toward red in the ...</td>\n",
       "      <td>entails</td>\n",
       "    </tr>\n",
       "    <tr>\n",
       "      <th>23086</th>\n",
       "      <td>The radial velocity of a star away from or tow...</td>\n",
       "      <td>Red-shift refers to a shift toward red in the ...</td>\n",
       "      <td>entails</td>\n",
       "    </tr>\n",
       "    <tr>\n",
       "      <th>23087</th>\n",
       "      <td>This expansion causes the light from distant s...</td>\n",
       "      <td>Red-shift refers to a shift toward red in the ...</td>\n",
       "      <td>entails</td>\n",
       "    </tr>\n",
       "  </tbody>\n",
       "</table>\n",
       "</div>"
      ],
      "text/plain": [
       "                                                 premise  \\\n",
       "23083  which is not only the motion of our bodies, bu...   \n",
       "23084  The Red Star, that celestial curse whose eccen...   \n",
       "23085  The lines in the spectrum of a luminous body s...   \n",
       "23086  The radial velocity of a star away from or tow...   \n",
       "23087  This expansion causes the light from distant s...   \n",
       "\n",
       "                                              hypothesis    label  \n",
       "23083  Work is done only if a force is exerted in the...  neutral  \n",
       "23084  Red-shift refers to a shift toward red in the ...  neutral  \n",
       "23085  Red-shift refers to a shift toward red in the ...  entails  \n",
       "23086  Red-shift refers to a shift toward red in the ...  entails  \n",
       "23087  Red-shift refers to a shift toward red in the ...  entails  "
      ]
     },
     "execution_count": 4,
     "metadata": {},
     "output_type": "execute_result"
    }
   ],
   "source": [
    "train_df.tail()"
   ]
  },
  {
   "cell_type": "code",
   "execution_count": 5,
   "id": "8a38ce21",
   "metadata": {},
   "outputs": [
    {
     "data": {
      "text/html": [
       "<div>\n",
       "<style scoped>\n",
       "    .dataframe tbody tr th:only-of-type {\n",
       "        vertical-align: middle;\n",
       "    }\n",
       "\n",
       "    .dataframe tbody tr th {\n",
       "        vertical-align: top;\n",
       "    }\n",
       "\n",
       "    .dataframe thead th {\n",
       "        text-align: right;\n",
       "    }\n",
       "</style>\n",
       "<table border=\"1\" class=\"dataframe\">\n",
       "  <thead>\n",
       "    <tr style=\"text-align: right;\">\n",
       "      <th></th>\n",
       "      <th>premise</th>\n",
       "      <th>hypothesis</th>\n",
       "      <th>label</th>\n",
       "    </tr>\n",
       "  </thead>\n",
       "  <tbody>\n",
       "    <tr>\n",
       "      <th>0</th>\n",
       "      <td>Based on the list provided of the uses of subs...</td>\n",
       "      <td>If a substance has a ph value greater than 7,t...</td>\n",
       "      <td>neutral</td>\n",
       "    </tr>\n",
       "    <tr>\n",
       "      <th>1</th>\n",
       "      <td>If one or two            base pairs are change...</td>\n",
       "      <td>Invertebrates (and higher animals) can also be...</td>\n",
       "      <td>neutral</td>\n",
       "    </tr>\n",
       "    <tr>\n",
       "      <th>2</th>\n",
       "      <td>At high temperatures, the solid dye converts i...</td>\n",
       "      <td>Gases and liquids become solids at low tempera...</td>\n",
       "      <td>neutral</td>\n",
       "    </tr>\n",
       "    <tr>\n",
       "      <th>3</th>\n",
       "      <td>Chapter 11 Gas and Kinetic Theory .</td>\n",
       "      <td>The behavior of ideal gases is explained by ki...</td>\n",
       "      <td>neutral</td>\n",
       "    </tr>\n",
       "    <tr>\n",
       "      <th>4</th>\n",
       "      <td>Both the continental crust and the oceanic cru...</td>\n",
       "      <td>Gabbro is a dark dense rock that can be found ...</td>\n",
       "      <td>neutral</td>\n",
       "    </tr>\n",
       "  </tbody>\n",
       "</table>\n",
       "</div>"
      ],
      "text/plain": [
       "                                             premise  \\\n",
       "0  Based on the list provided of the uses of subs...   \n",
       "1  If one or two            base pairs are change...   \n",
       "2  At high temperatures, the solid dye converts i...   \n",
       "3                Chapter 11 Gas and Kinetic Theory .   \n",
       "4  Both the continental crust and the oceanic cru...   \n",
       "\n",
       "                                          hypothesis    label  \n",
       "0  If a substance has a ph value greater than 7,t...  neutral  \n",
       "1  Invertebrates (and higher animals) can also be...  neutral  \n",
       "2  Gases and liquids become solids at low tempera...  neutral  \n",
       "3  The behavior of ideal gases is explained by ki...  neutral  \n",
       "4  Gabbro is a dark dense rock that can be found ...  neutral  "
      ]
     },
     "execution_count": 5,
     "metadata": {},
     "output_type": "execute_result"
    }
   ],
   "source": [
    "test_df.head()"
   ]
  },
  {
   "cell_type": "markdown",
   "id": "be8e37ae",
   "metadata": {},
   "source": [
    "# Data Pre-Processing\n"
   ]
  },
  {
   "cell_type": "code",
   "execution_count": 6,
   "id": "917129ba",
   "metadata": {},
   "outputs": [
    {
     "name": "stderr",
     "output_type": "stream",
     "text": [
      "[nltk_data] Downloading package punkt to\n",
      "[nltk_data]     C:\\Users\\DCCN9\\AppData\\Roaming\\nltk_data...\n",
      "[nltk_data]   Package punkt is already up-to-date!\n",
      "[nltk_data] Downloading package stopwords to\n",
      "[nltk_data]     C:\\Users\\DCCN9\\AppData\\Roaming\\nltk_data...\n",
      "[nltk_data]   Package stopwords is already up-to-date!\n"
     ]
    }
   ],
   "source": [
    "import nltk\n",
    "if not nltk.download('punkt'):\n",
    "    nltk.download('punkt')\n",
    "    nltk.download('punkt_tab')\n",
    "from nltk.tokenize import word_tokenize\n",
    "\n",
    "if not nltk.download('stopwords'):\n",
    "    nltk.download('stopwords')\n",
    "\n",
    "from nltk.corpus import stopwords\n",
    "stop_words = set(stopwords.words('english'))\n",
    "\n",
    "import re"
   ]
  },
  {
   "cell_type": "code",
   "execution_count": 7,
   "id": "a91b88ca",
   "metadata": {},
   "outputs": [],
   "source": [
    "# These are just common English contractions. We used it in Lab 5 before!\n",
    "contraction_dict = {\"ain't\": \"is not\", \"aren't\": \"are not\",\"can't\": \"cannot\", \"'cause\": \"because\", \"could've\": \"could have\",\n",
    "                    \"couldn't\": \"could not\", \"didn't\": \"did not\",  \"doesn't\": \"does not\", \"don't\": \"do not\", \"hadn't\": \"had not\",\n",
    "                    \"hasn't\": \"has not\", \"haven't\": \"have not\", \"he'd\": \"he would\",\"he'll\": \"he will\", \"he's\": \"he is\", \"how'd\": \"how did\",\n",
    "                    \"how'd'y\": \"how do you\", \"how'll\": \"how will\", \"how's\": \"how is\",  \"I'd\": \"I would\", \"I'd've\": \"I would have\",\n",
    "                    \"I'll\": \"I will\", \"I'll've\": \"I will have\",\"I'm\": \"I am\", \"I've\": \"I have\", \"i'd\": \"i would\", \"i'd've\": \"i would have\",\n",
    "                    \"i'll\": \"i will\",  \"i'll've\": \"i will have\",\"i'm\": \"i am\", \"i've\": \"i have\", \"isn't\": \"is not\", \"it'd\": \"it would\",\n",
    "                    \"it'd've\": \"it would have\", \"it'll\": \"it will\", \"it'll've\": \"it will have\",\"it's\": \"it is\", \"let's\": \"let us\",\n",
    "                    \"ma'am\": \"madam\", \"mayn't\": \"may not\", \"might've\": \"might have\",\"mightn't\": \"might not\",\"mightn't've\": \"might not have\",\n",
    "                    \"must've\": \"must have\", \"mustn't\": \"must not\", \"mustn't've\": \"must not have\", \"needn't\": \"need not\", \"needn't've\": \"need not have\",\n",
    "                    \"o'clock\": \"of the clock\", \"oughtn't\": \"ought not\", \"oughtn't've\": \"ought not have\", \"shan't\": \"shall not\", \"sha'n't\": \"shall not\",\n",
    "                    \"shan't've\": \"shall not have\", \"she'd\": \"she would\", \"she'd've\": \"she would have\", \"she'll\": \"she will\", \"she'll've\": \"she will have\",\n",
    "                    \"she's\": \"she is\", \"should've\": \"should have\", \"shouldn't\": \"should not\", \"shouldn't've\": \"should not have\", \"so've\": \"so have\",\n",
    "                    \"so's\": \"so as\", \"this's\": \"this is\",\"that'd\": \"that would\", \"that'd've\": \"that would have\", \"that's\": \"that is\", \"there'd\": \"there would\",\n",
    "                    \"there'd've\": \"there would have\", \"there's\": \"there is\", \"here's\": \"here is\",\"they'd\": \"they would\", \"they'd've\": \"they would have\",\n",
    "                    \"they'll\": \"they will\", \"they'll've\": \"they will have\", \"they're\": \"they are\", \"they've\": \"they have\", \"to've\": \"to have\", \"wasn't\": \"was not\",\n",
    "                    \"we'd\": \"we would\", \"we'd've\": \"we would have\", \"we'll\": \"we will\", \"we'll've\": \"we will have\", \"we're\": \"we are\", \"we've\": \"we have\",\n",
    "                    \"weren't\": \"were not\", \"what'll\": \"what will\", \"what'll've\": \"what will have\", \"what're\": \"what are\",  \"what's\": \"what is\", \"what've\": \"what have\",\n",
    "                    \"when's\": \"when is\", \"when've\": \"when have\", \"where'd\": \"where did\", \"where's\": \"where is\", \"where've\": \"where have\", \"who'll\": \"who will\",\n",
    "                    \"who'll've\": \"who will have\", \"who's\": \"who is\", \"who've\": \"who have\", \"why's\": \"why is\", \"why've\": \"why have\", \"will've\": \"will have\",\n",
    "                    \"won't\": \"will not\", \"won't've\": \"will not have\", \"would've\": \"would have\", \"wouldn't\": \"would not\", \"wouldn't've\": \"would not have\",\n",
    "                    \"y'all\": \"you all\", \"y'all'd\": \"you all would\",\"y'all'd've\": \"you all would have\",\"y'all're\": \"you all are\",\"y'all've\": \"you all have\",\n",
    "                    \"you'd\": \"you would\", \"you'd've\": \"you would have\", \"you'll\": \"you will\", \"you'll've\": \"you will have\", \"you're\": \"you are\", \"you've\": \"you have\"}"
   ]
  },
  {
   "cell_type": "code",
   "execution_count": 8,
   "id": "94ade6c5",
   "metadata": {},
   "outputs": [
    {
     "name": "stderr",
     "output_type": "stream",
     "text": [
      "[nltk_data] Downloading package wordnet to\n",
      "[nltk_data]     C:\\Users\\DCCN9\\AppData\\Roaming\\nltk_data...\n",
      "[nltk_data]   Package wordnet is already up-to-date!\n"
     ]
    }
   ],
   "source": [
    "# Stemmer and Lemmatizer\n",
    "from nltk.stem import PorterStemmer, WordNetLemmatizer\n",
    "from nltk.corpus import wordnet\n",
    "from nltk import pos_tag, word_tokenize\n",
    "\n",
    "if not nltk.download('wordnet'):\n",
    "    nltk.download('wordnet')\n",
    "    nltk.download('omw-1.4')\n",
    "    nltk.download('averaged_perceptron_tagger')"
   ]
  },
  {
   "cell_type": "code",
   "execution_count": 9,
   "id": "b6b71d8e",
   "metadata": {},
   "outputs": [],
   "source": [
    "# Helper function for lemmatization with POS tagging\n",
    "def get_wordnet_pos(treebank_tag):\n",
    "    if treebank_tag.startswith('J'):\n",
    "        return wordnet.ADJ\n",
    "    elif treebank_tag.startswith('V'):\n",
    "        return wordnet.VERB\n",
    "    elif treebank_tag.startswith('N'):\n",
    "        return wordnet.NOUN\n",
    "    elif treebank_tag.startswith('R'):\n",
    "        return wordnet.ADV\n",
    "    else:\n",
    "        return wordnet.NOUN  # Default to noun if no match"
   ]
  },
  {
   "cell_type": "code",
   "execution_count": 10,
   "id": "3309d028",
   "metadata": {},
   "outputs": [],
   "source": [
    "# Allowed POS tags for filtering (example: nouns, verbs, adjectives, adverbs)\n",
    "allowed_pos_tags = {'NN', 'NNS', 'NNP', 'NNPS',   # Nouns\n",
    "                    'VB', 'VBD', 'VBG', 'VBN', 'VBP', 'VBZ',  # Verbs\n",
    "                    'JJ', 'JJR', 'JJS',           # Adjectives\n",
    "                    'RB', 'RBR', 'RBS'}           # Adverbs"
   ]
  },
  {
   "cell_type": "code",
   "execution_count": 11,
   "id": "ec143704",
   "metadata": {},
   "outputs": [],
   "source": [
    "# Filter the desired POS tags\n",
    "def filter_tokens_by_pos(tokens):\n",
    "    tagged_tokens = pos_tag(tokens)\n",
    "    filtered = [word for word, tag in tagged_tokens if tag in allowed_pos_tags]\n",
    "    return filtered"
   ]
  },
  {
   "cell_type": "code",
   "execution_count": 12,
   "id": "8ae31e29",
   "metadata": {},
   "outputs": [],
   "source": [
    "# Config\n",
    "min_word_length = 3\n",
    "max_word_length = 60 "
   ]
  },
  {
   "cell_type": "code",
   "execution_count": 13,
   "id": "97386b5b",
   "metadata": {},
   "outputs": [],
   "source": [
    "def clean_dataset(dataset, min_word_length=3, max_word_length=50, method=None, pos_filter=False, stop_w=False):\n",
    "    cleaned_premises = []\n",
    "    cleaned_hypotheses = []\n",
    "    cleaned_labels = []\n",
    "\n",
    "    for index, row in dataset.iterrows():\n",
    "        premise = row['premise']\n",
    "        hypothesis = row['hypothesis']\n",
    "        label = row['label']\n",
    "\n",
    "        # Lowercase\n",
    "        premise = premise.lower()\n",
    "        hypothesis = hypothesis.lower()\n",
    "\n",
    "        # Expand contractions\n",
    "        for contraction, full_form in contraction_dict.items():\n",
    "            premise = premise.replace(contraction, full_form)\n",
    "            hypothesis = hypothesis.replace(contraction, full_form)\n",
    "\n",
    "        # Remove punctuation/special chars\n",
    "        premise = re.sub(r'[^\\w\\s]', '', premise)\n",
    "        hypothesis = re.sub(r'[^\\w\\s]', '', hypothesis)\n",
    "\n",
    "        # Normalize whitespace\n",
    "        premise = re.sub(r'\\s+', ' ', premise).strip()\n",
    "        hypothesis = re.sub(r'\\s+', ' ', hypothesis).strip()\n",
    "\n",
    "        # Tokenization\n",
    "        premise_tokens = word_tokenize(premise)\n",
    "        hypothesis_tokens = word_tokenize(hypothesis)\n",
    "\n",
    "        # Stemming/Lemmatization\n",
    "        if method == 'stem':\n",
    "            stemmer = PorterStemmer()\n",
    "            premise_tokens = [stemmer.stem(word) for word in premise_tokens]\n",
    "            hypothesis_tokens = [stemmer.stem(word) for word in hypothesis_tokens]\n",
    "        elif method == 'lemmatize':\n",
    "            lemmatizer = WordNetLemmatizer()\n",
    "            premise_pos_tags = pos_tag(premise_tokens)\n",
    "            hypothesis_pos_tags = pos_tag(hypothesis_tokens)\n",
    "            premise_tokens = [lemmatizer.lemmatize(word, get_wordnet_pos(pos)) for word, pos in premise_pos_tags]\n",
    "            hypothesis_tokens = [lemmatizer.lemmatize(word, get_wordnet_pos(pos)) for word, pos in hypothesis_pos_tags]\n",
    "\n",
    "        # POS Filtering\n",
    "        if pos_filter:\n",
    "            premise_tokens = filter_tokens_by_pos(premise_tokens)\n",
    "            hypothesis_tokens = filter_tokens_by_pos(hypothesis_tokens)\n",
    "\n",
    "        # Remove stop words\n",
    "        if stop_w:\n",
    "            premise_tokens = [word for word in premise_tokens if word not in stop_words]\n",
    "            hypothesis_tokens = [word for word in hypothesis_tokens if word not in stop_words]\n",
    "\n",
    "        # Now check token length AFTER cleaning\n",
    "        if (min_word_length <= len(premise_tokens) <= max_word_length and\n",
    "            min_word_length <= len(hypothesis_tokens) <= max_word_length):\n",
    "            cleaned_premises.append(premise_tokens)\n",
    "            cleaned_hypotheses.append(hypothesis_tokens)\n",
    "            cleaned_labels.append(label)\n",
    "        # else: skip row\n",
    "\n",
    "    # Build DataFrame from all cleaned token lists\n",
    "    new_dataset = pd.DataFrame({\n",
    "        'premise': cleaned_premises,\n",
    "        'hypothesis': cleaned_hypotheses,\n",
    "        'label': cleaned_labels\n",
    "    })\n",
    "\n",
    "    return new_dataset\n"
   ]
  },
  {
   "cell_type": "code",
   "execution_count": 14,
   "id": "810a3997",
   "metadata": {},
   "outputs": [],
   "source": [
    "clean_train_dataset = clean_dataset(train_df, stop_w=False, method=None)\n",
    "clean_test_dataset = clean_dataset(test_df,stop_w=False, method=None )"
   ]
  },
  {
   "cell_type": "code",
   "execution_count": 15,
   "id": "3779c637",
   "metadata": {},
   "outputs": [
    {
     "data": {
      "text/html": [
       "<div>\n",
       "<style scoped>\n",
       "    .dataframe tbody tr th:only-of-type {\n",
       "        vertical-align: middle;\n",
       "    }\n",
       "\n",
       "    .dataframe tbody tr th {\n",
       "        vertical-align: top;\n",
       "    }\n",
       "\n",
       "    .dataframe thead th {\n",
       "        text-align: right;\n",
       "    }\n",
       "</style>\n",
       "<table border=\"1\" class=\"dataframe\">\n",
       "  <thead>\n",
       "    <tr style=\"text-align: right;\">\n",
       "      <th></th>\n",
       "      <th>premise</th>\n",
       "      <th>hypothesis</th>\n",
       "      <th>label</th>\n",
       "    </tr>\n",
       "  </thead>\n",
       "  <tbody>\n",
       "    <tr>\n",
       "      <th>0</th>\n",
       "      <td>[pluto, rotates, once, on, its, axis, every, 6...</td>\n",
       "      <td>[earth, rotates, on, its, axis, once, times, i...</td>\n",
       "      <td>neutral</td>\n",
       "    </tr>\n",
       "    <tr>\n",
       "      <th>1</th>\n",
       "      <td>[glenn, once, per, day, the, earth, rotates, a...</td>\n",
       "      <td>[earth, rotates, on, its, axis, once, times, i...</td>\n",
       "      <td>entails</td>\n",
       "    </tr>\n",
       "    <tr>\n",
       "      <th>2</th>\n",
       "      <td>[geysers, periodic, gush, of, hot, water, at, ...</td>\n",
       "      <td>[the, surface, of, the, sun, is, much, hotter,...</td>\n",
       "      <td>neutral</td>\n",
       "    </tr>\n",
       "    <tr>\n",
       "      <th>3</th>\n",
       "      <td>[facts, liquid, water, droplets, can, be, chan...</td>\n",
       "      <td>[evaporation, is, responsible, for, changing, ...</td>\n",
       "      <td>entails</td>\n",
       "    </tr>\n",
       "    <tr>\n",
       "      <th>4</th>\n",
       "      <td>[by, comparison, the, earth, rotates, on, its,...</td>\n",
       "      <td>[earth, rotates, on, its, axis, once, times, i...</td>\n",
       "      <td>entails</td>\n",
       "    </tr>\n",
       "  </tbody>\n",
       "</table>\n",
       "</div>"
      ],
      "text/plain": [
       "                                             premise  \\\n",
       "0  [pluto, rotates, once, on, its, axis, every, 6...   \n",
       "1  [glenn, once, per, day, the, earth, rotates, a...   \n",
       "2  [geysers, periodic, gush, of, hot, water, at, ...   \n",
       "3  [facts, liquid, water, droplets, can, be, chan...   \n",
       "4  [by, comparison, the, earth, rotates, on, its,...   \n",
       "\n",
       "                                          hypothesis    label  \n",
       "0  [earth, rotates, on, its, axis, once, times, i...  neutral  \n",
       "1  [earth, rotates, on, its, axis, once, times, i...  entails  \n",
       "2  [the, surface, of, the, sun, is, much, hotter,...  neutral  \n",
       "3  [evaporation, is, responsible, for, changing, ...  entails  \n",
       "4  [earth, rotates, on, its, axis, once, times, i...  entails  "
      ]
     },
     "execution_count": 15,
     "metadata": {},
     "output_type": "execute_result"
    }
   ],
   "source": [
    "clean_train_dataset.head()"
   ]
  },
  {
   "cell_type": "markdown",
   "id": "8f86f3c4",
   "metadata": {},
   "source": [
    "## Build dictionary of words and word2id\n"
   ]
  },
  {
   "cell_type": "code",
   "execution_count": 16,
   "id": "8e95f693",
   "metadata": {},
   "outputs": [
    {
     "name": "stdout",
     "output_type": "stream",
     "text": [
      "0        [pluto, rotates, once, on, its, axis, every, 6...\n",
      "1        [glenn, once, per, day, the, earth, rotates, a...\n",
      "2        [geysers, periodic, gush, of, hot, water, at, ...\n",
      "3        [facts, liquid, water, droplets, can, be, chan...\n",
      "4        [by, comparison, the, earth, rotates, on, its,...\n",
      "                               ...                        \n",
      "22900    [which, is, not, only, the, motion, of, our, b...\n",
      "22901    [the, red, star, that, celestial, curse, whose...\n",
      "22902    [the, lines, in, the, spectrum, of, a, luminou...\n",
      "22903    [the, radial, velocity, of, a, star, away, fro...\n",
      "22904    [this, expansion, causes, the, light, from, di...\n",
      "Name: premise, Length: 22905, dtype: object\n"
     ]
    }
   ],
   "source": [
    "print(clean_train_dataset['premise'])"
   ]
  },
  {
   "cell_type": "code",
   "execution_count": 17,
   "id": "7c0d42bd",
   "metadata": {},
   "outputs": [
    {
     "name": "stdout",
     "output_type": "stream",
     "text": [
      "Count of unique words: 22007\n"
     ]
    }
   ],
   "source": [
    "# Create a unique word list from the cleaned dataset\n",
    "unique_words = set()\n",
    "for sentence in clean_train_dataset['premise']:\n",
    "    for word in sentence:\n",
    "        unique_words.add(word)\n",
    "\n",
    "print(f\"Count of unique words: {len(unique_words)}\")\n",
    "#No lemmatization or stemming count = 22555\n",
    "#Lemmatization count = 18986\n",
    "#Stemming count = 15954\n"
   ]
  },
  {
   "cell_type": "code",
   "execution_count": 18,
   "id": "73c6c5d6",
   "metadata": {},
   "outputs": [],
   "source": [
    "unique_words_list = sorted(list(unique_words))"
   ]
  },
  {
   "cell_type": "code",
   "execution_count": 19,
   "id": "759cdfa9",
   "metadata": {},
   "outputs": [],
   "source": [
    "# No. of words with each method.\n",
    "\n",
    "word2id = {w:i for i,w in enumerate(unique_words_list)}\n",
    "id2word = {i:w for i,w in enumerate(unique_words_list)}\n"
   ]
  },
  {
   "cell_type": "markdown",
   "id": "b2358751",
   "metadata": {},
   "source": [
    "# Build Embedding Model using Gensim and FastText\n"
   ]
  },
  {
   "cell_type": "code",
   "execution_count": 20,
   "id": "a9c274b8",
   "metadata": {},
   "outputs": [],
   "source": [
    "from gensim.models import FastText"
   ]
  },
  {
   "cell_type": "code",
   "execution_count": 21,
   "id": "d1a241c5",
   "metadata": {},
   "outputs": [],
   "source": [
    "# Hyperparameters\n",
    "batch_size = 1024\n",
    "learn_rate = 0.01\n",
    "embedding_size = 200\n",
    "no_of_epochs = 8\n",
    "window_size = 8\n",
    "vocab_size = len(unique_words)\n"
   ]
  },
  {
   "cell_type": "code",
   "execution_count": 22,
   "id": "d4dea990",
   "metadata": {},
   "outputs": [],
   "source": [
    "clean_t_dataset = clean_train_dataset['premise'] + clean_train_dataset['hypothesis']"
   ]
  },
  {
   "cell_type": "code",
   "execution_count": 23,
   "id": "1f5cb6e3",
   "metadata": {},
   "outputs": [],
   "source": [
    "fast_text_model = FastText(clean_t_dataset, \n",
    "                           vector_size=embedding_size,\n",
    "                           window=window_size,\n",
    "                           sg=1,\n",
    "                           epochs=no_of_epochs\n",
    "                           )"
   ]
  },
  {
   "cell_type": "code",
   "execution_count": 24,
   "id": "f01dcf2f",
   "metadata": {},
   "outputs": [
    {
     "data": {
      "text/plain": [
       "[('saturns', 0.9529344439506531),\n",
       " ('1980', 0.8233614563941956),\n",
       " ('voyager', 0.8077182769775391),\n",
       " ('neptune', 0.7895744442939758),\n",
       " ('spacecraft', 0.7875725626945496),\n",
       " ('jupiter', 0.7846785187721252),\n",
       " ('1980s', 0.776556670665741),\n",
       " ('1981', 0.7713391184806824),\n",
       " ('1979', 0.7661084532737732),\n",
       " ('1989', 0.7468768954277039)]"
      ]
     },
     "execution_count": 24,
     "metadata": {},
     "output_type": "execute_result"
    }
   ],
   "source": [
    "fast_text_model.wv.most_similar('saturn', topn=10)"
   ]
  },
  {
   "cell_type": "markdown",
   "id": "a44a81f2",
   "metadata": {},
   "source": [
    "# Transformer Model Implementation\n"
   ]
  },
  {
   "cell_type": "markdown",
   "id": "7c199dc1",
   "metadata": {},
   "source": [
    "## First we need to prepare the data for to input into the transformer.\n"
   ]
  },
  {
   "cell_type": "markdown",
   "id": "ec8ea8b5",
   "metadata": {},
   "source": [
    "Lets add some special tokens to my vocabularies to use as separation tokens [SEP] [PAD]\n"
   ]
  },
  {
   "cell_type": "code",
   "execution_count": 25,
   "id": "85a51cad",
   "metadata": {},
   "outputs": [],
   "source": [
    "SPECIAL_TOKENS = ['[SEP]', '[PAD]']\n",
    "for tok in SPECIAL_TOKENS:\n",
    "    if tok not in word2id:\n",
    "        idx = len(word2id)\n",
    "        word2id[tok] = idx\n",
    "        id2word[idx] = tok\n",
    "\n",
    "sep_index = word2id['[SEP]']\n",
    "pad_index = word2id['[PAD]']"
   ]
  },
  {
   "cell_type": "code",
   "execution_count": 26,
   "id": "57ad55b3",
   "metadata": {},
   "outputs": [],
   "source": [
    "# Hyperparameters for Transformer\n",
    "#max_sequence_len = 64 "
   ]
  },
  {
   "cell_type": "code",
   "execution_count": 27,
   "id": "d45d43d9",
   "metadata": {},
   "outputs": [],
   "source": [
    "# Build a preparation data function for the transformer\n",
    "def prepare_transformer_data(df,word2id,max_sequence_len):\n",
    "    input_ids = []\n",
    "    labels = []\n",
    "\n",
    "    for _,row in df.iterrows():\n",
    "        premise = row['premise']\n",
    "        hypothesis = row['hypothesis']\n",
    "        label = row['label']\n",
    "\n",
    "        # Concatenate tokens + SEP + tokens\n",
    "        tokens = premise + ['[SEP]'] + hypothesis\n",
    "\n",
    "        # Convert to ids\n",
    "        indices = [word2id.get(w, word2id['[PAD]']) for w in tokens]\n",
    "\n",
    "\n",
    "        # PAD or truncate \n",
    "        if len(indices) < max_sequence_len:\n",
    "            indices += [pad_index] * (max_sequence_len - len(indices))\n",
    "        else:\n",
    "            indices = indices[:max_sequence_len]\n",
    "\n",
    "        input_ids.append(indices)\n",
    "        labels.append(0 if label == 'neutral' else 1)\n",
    "\n",
    "    return np.array(input_ids), np.array(labels)"
   ]
  },
  {
   "cell_type": "code",
   "execution_count": 28,
   "id": "d3958d9b",
   "metadata": {},
   "outputs": [],
   "source": [
    "x_train, y_train = prepare_transformer_data(clean_train_dataset, word2id, max_word_length)\n",
    "x_test, y_test = prepare_transformer_data(clean_test_dataset, word2id, max_word_length)"
   ]
  },
  {
   "cell_type": "code",
   "execution_count": null,
   "id": "f0a2e16b",
   "metadata": {},
   "outputs": [
    {
     "ename": "NameError",
     "evalue": "name 'word2id' is not defined",
     "output_type": "error",
     "traceback": [
      "\u001b[31m---------------------------------------------------------------------------\u001b[39m",
      "\u001b[31mNameError\u001b[39m                                 Traceback (most recent call last)",
      "\u001b[36mCell\u001b[39m\u001b[36m \u001b[39m\u001b[32mIn[1]\u001b[39m\u001b[32m, line 1\u001b[39m\n\u001b[32m----> \u001b[39m\u001b[32m1\u001b[39m \u001b[43mword2id\u001b[49m[\u001b[33m'\u001b[39m\u001b[33mjupiter\u001b[39m\u001b[33m'\u001b[39m]\n",
      "\u001b[31mNameError\u001b[39m: name 'word2id' is not defined"
     ]
    }
   ],
   "source": [
    "word2id['[SEP]']"
   ]
  },
  {
   "cell_type": "code",
   "execution_count": 30,
   "id": "6c44703a",
   "metadata": {},
   "outputs": [
    {
     "data": {
      "text/plain": [
       "'wolves'"
      ]
     },
     "execution_count": 30,
     "metadata": {},
     "output_type": "execute_result"
    }
   ],
   "source": [
    "id2word[21791]"
   ]
  },
  {
   "cell_type": "code",
   "execution_count": 31,
   "id": "f8b1817d",
   "metadata": {},
   "outputs": [
    {
     "name": "stdout",
     "output_type": "stream",
     "text": [
      "['pluto', 'rotates', 'once', 'on', 'its', 'axis', 'every', '639', 'earth', 'days', '[SEP]', 'earth', 'rotates', 'on', 'its', 'axis', 'once', 'times', 'in', 'one', 'day', '[PAD]', '[PAD]', '[PAD]', '[PAD]', '[PAD]', '[PAD]', '[PAD]', '[PAD]', '[PAD]', '[PAD]', '[PAD]', '[PAD]', '[PAD]', '[PAD]', '[PAD]', '[PAD]', '[PAD]', '[PAD]', '[PAD]', '[PAD]', '[PAD]', '[PAD]', '[PAD]', '[PAD]', '[PAD]', '[PAD]', '[PAD]', '[PAD]', '[PAD]', '[PAD]', '[PAD]', '[PAD]', '[PAD]', '[PAD]', '[PAD]', '[PAD]', '[PAD]', '[PAD]', '[PAD]']\n",
      "0\n"
     ]
    }
   ],
   "source": [
    "print([id2word[idx] for idx in x_train[0]])\n",
    "print(y_train[0])"
   ]
  },
  {
   "cell_type": "code",
   "execution_count": 32,
   "id": "ec046559",
   "metadata": {},
   "outputs": [
    {
     "name": "stdout",
     "output_type": "stream",
     "text": [
      "[15235 17290 13975 13973 10927  2265  7418   687  6638  5510 22007  6638\n",
      " 17290 13973 10927  2265 13975 20127 10232 13986  5507 22008 22008 22008\n",
      " 22008 22008 22008 22008 22008 22008 22008 22008 22008 22008 22008 22008\n",
      " 22008 22008 22008 22008 22008 22008 22008 22008 22008 22008 22008 22008\n",
      " 22008 22008 22008 22008 22008 22008 22008 22008 22008 22008 22008 22008]\n"
     ]
    }
   ],
   "source": [
    "print(x_train[0])"
   ]
  },
  {
   "cell_type": "markdown",
   "id": "c717d4dd",
   "metadata": {},
   "source": [
    "Now that we have the data as the transformer expects it, lets move to the transformer.\n",
    "For the next steps i expect to build:\n",
    "\n",
    "- Embedding Layer: Use my FastText with nn.Embeddings for the transformer\n",
    "- Positional Encoding: Add the positional encoding to inject word order information.\n",
    "- Transformer Encoder Layer\n",
    "- Classification Head\n",
    "- Forward Pass\n"
   ]
  },
  {
   "cell_type": "code",
   "execution_count": null,
   "id": "3d18797a",
   "metadata": {},
   "outputs": [],
   "source": [
    "import torch \n",
    "import torch.nn as nn\n",
    "import math \n",
    "\n",
    "# Positional Encoding Class\n",
    "class PositionalEncoding(nn.Module):\n",
    "    def __init__(self, d_model, max_len=64):\n",
    "        super().__init__()\n",
    "        pe = torch.zeros(max_len, d_model) \n",
    "        position = torch.arange(0, max_len, dtype=torch.float).unsqueeze(1)\n",
    "        div_term = torch.exp(torch.arange(0,d_model,2).float() * (-math.log(10000.0) / d_model))\n",
    "        pe[:, 0::2] = torch.sin(position * div_term)\n",
    "        pe[:, 1::2] = torch.cos(position * div_term)\n",
    "        pe = pe.unsqueeze(0)\n",
    "        self.register_buffer('pe',pe)\n",
    "\n",
    "    def forward(self,x):\n",
    "        x = x + self.pe[:,:x.size(1),:]\n",
    "        return x\n",
    "    \n",
    "# Transformer Class  \n",
    "class TransformerClassifier(nn.Module):\n",
    "    def __init__(self, embedding_matrix, num_classes = 2):\n",
    "        super().__init__()\n",
    "        vocab_size, embed_dim = embedding_matrix.shape\n",
    "        self.embedding = nn.Embedding.from_pretrained(torch.FloatTensor(embedding_matrix), freeze=False)\n",
    "        self.pos_encoder = PositionalEncoding(embed_dim, max_len=max_word_length)\n",
    "\n",
    "        encoder_layer = nn.TransformerEncoderLayer(d_model=embed_dim, nhead=1) # replace with hyperparameters in the future \n",
    "        self.transformer_encoder = nn.TransformerEncoder(encoder_layer, num_layers=1) # Replace with hyperparameters \n",
    "\n",
    "        self.classifier = nn.Linear(embed_dim, num_classes)\n",
    "\n",
    "    def forward(self, x):\n",
    "        embedded = self.embedding(x) # [batch_size, seq_len, embed_dim]\n",
    "        embedded = self.pos_encoder(embedded) # Add positional encoding \n",
    "\n",
    "        # Transformer expects [seq_len, batch_size, embed_dim]\n",
    "        encoded = self.transformer_encoder(embedded.transpose(0,1))\n",
    "        #Mean pool over seq_len: output shape [batch_size, embed_dim]\n",
    "        pooled = encoded.mean(dim=0)\n",
    "\n",
    "        logits = self.classifier(pooled)\n",
    "        return logits "
   ]
  },
  {
   "cell_type": "markdown",
   "id": "257d5f37",
   "metadata": {},
   "source": [
    "Now lets build the embedding matrix from the FastText using the word2id\n"
   ]
  },
  {
   "cell_type": "code",
   "execution_count": 34,
   "id": "b672a758",
   "metadata": {},
   "outputs": [
    {
     "name": "stdout",
     "output_type": "stream",
     "text": [
      "Logits shape: torch.Size([8, 2])\n",
      "Logits example output: tensor([ 0.0685, -0.9079])\n"
     ]
    },
    {
     "name": "stderr",
     "output_type": "stream",
     "text": [
      "c:\\Users\\DCCN9\\OneDrive - UWA\\Data Science\\Semester July-November 2025\\CITS4012 - Natural Language Processing\\Team Assignment 2 NLP\\.venv\\Lib\\site-packages\\torch\\nn\\modules\\transformer.py:392: UserWarning: enable_nested_tensor is True, but self.use_nested_tensor is False because encoder_layer.self_attn.batch_first was not True(use batch_first for better inference performance)\n",
      "  warnings.warn(\n"
     ]
    }
   ],
   "source": [
    "embedding_dim = fast_text_model.vector_size\n",
    "vocab_size = len(word2id)\n",
    "\n",
    "#Initialize the embedding matrix\n",
    "embedding_matrix = np.zeros((vocab_size, embedding_dim))\n",
    "\n",
    "for word, idx in word2id.items():\n",
    "    if word in fast_text_model.wv:\n",
    "        embedding_matrix[idx] = fast_text_model.wv[word]\n",
    "    else:\n",
    "        #Initialize unkown words\n",
    "        embedding_matrix[idx] = np.random.normal(scale=0.6, size=(embedding_dim,))\n",
    "\n",
    "# Convert the prepared input data 'x' to a PyTorch tensor\n",
    "x_tensor = torch.LongTensor(x_train[:8]) # example mini-batch\n",
    "\n",
    "#Instantiate your transformer Model\n",
    "transformer_model = TransformerClassifier(embedding_matrix, num_classes=2)\n",
    "\n",
    "# Run a forward pass\n",
    "transformer_model.eval()\n",
    "with torch.no_grad():\n",
    "    logits = transformer_model(x_tensor)\n",
    "\n",
    "print(\"Logits shape:\", logits.shape)\n",
    "print(\"Logits example output:\",logits[0])\n"
   ]
  },
  {
   "cell_type": "markdown",
   "id": "d54b7236",
   "metadata": {},
   "source": [
    "For the last steps, lets define the optimizer and loss functin\n",
    "Create the trainning loop\n",
    "and build an evaluation function.\n"
   ]
  },
  {
   "cell_type": "code",
   "execution_count": 35,
   "id": "77b871da",
   "metadata": {},
   "outputs": [],
   "source": [
    "#Hyperparameters\n",
    "batch_size = 32\n",
    "num_epochs = 5"
   ]
  },
  {
   "cell_type": "code",
   "execution_count": 36,
   "id": "a6e75bc0",
   "metadata": {},
   "outputs": [],
   "source": [
    "import torch\n",
    "import torch.nn as nn\n",
    "from torch.utils.data import DataLoader, TensorDataset\n",
    "\n",
    "# Convert the full datasets to PyTorch tensors\n",
    "train_dataset = TensorDataset(torch.LongTensor(x_train), torch.LongTensor(y_train))\n",
    "test_dataset = TensorDataset(torch.LongTensor(x_test), torch.LongTensor(y_test))\n",
    "\n",
    "train_loader = DataLoader(train_dataset, batch_size=32, shuffle=True)\n",
    "test_loader = DataLoader(test_dataset, batch_size=32)"
   ]
  },
  {
   "cell_type": "code",
   "execution_count": 37,
   "id": "f8293681",
   "metadata": {},
   "outputs": [],
   "source": [
    "# Define loss and optimizer\n",
    "criterion = nn.CrossEntropyLoss()\n",
    "optimizer = torch.optim.Adam(transformer_model.parameters(), lr=1e-3)\n",
    "\n",
    "# Training function\n",
    "def train_epoch(model, dataloader, criterion, optimizer, device):\n",
    "    model.train()\n",
    "    total_loss = 0\n",
    "    correct = 0\n",
    "    total = 0\n",
    "\n",
    "    for inputs, labels in dataloader:\n",
    "        inputs, labels = inputs.to(device), labels.to(device)\n",
    "\n",
    "        optimizer.zero_grad()\n",
    "        outputs = model(inputs)\n",
    "        loss = criterion(outputs, labels)\n",
    "        loss.backward()\n",
    "        optimizer.step()\n",
    "\n",
    "        total_loss += loss.item() * inputs.size(0)\n",
    "        preds = outputs.argmax(dim=1)\n",
    "        correct += (preds == labels).sum().item()\n",
    "        total += labels.size(0)\n",
    "\n",
    "    avg_loss = total_loss / total\n",
    "    accuracy = correct / total\n",
    "    return avg_loss, accuracy\n",
    "\n",
    "# Evaluation function\n",
    "def evaluate(model, dataloader, criterion, device):\n",
    "    model.eval()\n",
    "    total_loss = 0\n",
    "    correct = 0\n",
    "    total = 0\n",
    "\n",
    "    with torch.no_grad():\n",
    "        for inputs, labels in dataloader:\n",
    "            inputs, labels = inputs.to(device), labels.to(device)\n",
    "            outputs = model(inputs)\n",
    "            loss = criterion(outputs, labels)\n",
    "\n",
    "            total_loss += loss.item() * inputs.size(0)\n",
    "            preds = outputs.argmax(dim=1)\n",
    "            correct += (preds == labels).sum().item()\n",
    "            total += labels.size(0)\n",
    "\n",
    "    avg_loss = total_loss / total\n",
    "    accuracy = correct / total\n",
    "    return avg_loss, accuracy\n"
   ]
  },
  {
   "cell_type": "markdown",
   "id": "3951515b",
   "metadata": {},
   "source": [
    "Now we move to the trainning and evaluation\n"
   ]
  },
  {
   "cell_type": "code",
   "execution_count": 38,
   "id": "25d4f19f",
   "metadata": {},
   "outputs": [
    {
     "name": "stdout",
     "output_type": "stream",
     "text": [
      "Epoch 1/5 - Train Loss: 0.5609, Train Acc: 0.7255 - Val Loss: 0.6019, Val Acc: 0.7126\n",
      "Epoch 2/5 - Train Loss: 0.3659, Train Acc: 0.8439 - Val Loss: 0.6051, Val Acc: 0.7240\n",
      "Epoch 3/5 - Train Loss: 0.2657, Train Acc: 0.8929 - Val Loss: 0.7367, Val Acc: 0.7031\n",
      "Epoch 4/5 - Train Loss: 0.1889, Train Acc: 0.9274 - Val Loss: 0.9048, Val Acc: 0.7126\n",
      "Epoch 5/5 - Train Loss: 0.1328, Train Acc: 0.9526 - Val Loss: 1.2565, Val Acc: 0.7116\n",
      "Training complete.\n"
     ]
    }
   ],
   "source": [
    "device = torch.device('cuda' if torch.cuda.is_available() else 'cpu')\n",
    "# Main training loop\n",
    "for epoch in range(num_epochs):\n",
    "    train_loss, train_acc = train_epoch(transformer_model, train_loader, criterion, optimizer, device)\n",
    "    val_loss, val_acc = evaluate(transformer_model, test_loader, criterion, device)\n",
    "    print(f\"Epoch {epoch+1}/{num_epochs} - Train Loss: {train_loss:.4f}, Train Acc: {train_acc:.4f} - Val Loss: {val_loss:.4f}, Val Acc: {val_acc:.4f}\")\n",
    "\n",
    "print(\"Training complete.\")"
   ]
  },
  {
   "cell_type": "markdown",
   "id": "01608727",
   "metadata": {},
   "source": [
    "## Evaluation of the Model\n"
   ]
  },
  {
   "cell_type": "code",
   "execution_count": 40,
   "id": "108729c7",
   "metadata": {},
   "outputs": [
    {
     "name": "stdout",
     "output_type": "stream",
     "text": [
      "Accuracy: 0.7116477272727273\n",
      "F1 Score: 0.583732057416268\n",
      "Precision: 0.6876006441223832\n",
      "Recall: 0.5071258907363421\n",
      "----------------------------------------\n",
      "              precision    recall  f1-score   support\n",
      "\n",
      "     neutral       0.72      0.85      0.78      1270\n",
      "     entails       0.69      0.51      0.58       842\n",
      "\n",
      "    accuracy                           0.71      2112\n",
      "   macro avg       0.70      0.68      0.68      2112\n",
      "weighted avg       0.71      0.71      0.70      2112\n",
      "\n"
     ]
    }
   ],
   "source": [
    "from sklearn.metrics import accuracy_score, f1_score, precision_score, recall_score, classification_report\n",
    "\n",
    "transformer_model.eval()\n",
    "all_preds = []\n",
    "all_labels = []\n",
    "\n",
    "with torch.no_grad():\n",
    "    for inputs, labels in test_loader:\n",
    "        inputs = inputs.to(device)\n",
    "        logits = transformer_model(inputs)\n",
    "        preds = logits.argmax(dim=1).cpu().numpy()\n",
    "        all_preds.extend(preds)\n",
    "        all_labels.extend(labels.numpy())\n",
    "\n",
    "print(\"Accuracy:\", accuracy_score(all_labels, all_preds))\n",
    "print(\"F1 Score:\", f1_score(all_labels, all_preds))\n",
    "print(\"Precision:\", precision_score(all_labels, all_preds))\n",
    "print(\"Recall:\", recall_score(all_labels, all_preds))\n",
    "print(\"-\" * 40)\n",
    "print(classification_report(all_labels, all_preds, target_names=[\"neutral\",\"entails\"]))\n"
   ]
  },
  {
   "cell_type": "code",
   "execution_count": null,
   "id": "551b1dc1",
   "metadata": {},
   "outputs": [],
   "source": []
  }
 ],
 "metadata": {
  "kernelspec": {
   "display_name": ".venv",
   "language": "python",
   "name": "python3"
  },
  "language_info": {
   "codemirror_mode": {
    "name": "ipython",
    "version": 3
   },
   "file_extension": ".py",
   "mimetype": "text/x-python",
   "name": "python",
   "nbconvert_exporter": "python",
   "pygments_lexer": "ipython3",
   "version": "3.12.10"
  }
 },
 "nbformat": 4,
 "nbformat_minor": 5
}
